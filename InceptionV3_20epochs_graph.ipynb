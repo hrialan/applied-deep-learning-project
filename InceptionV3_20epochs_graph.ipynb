{
 "cells": [
  {
   "cell_type": "code",
   "execution_count": 1,
   "id": "66befe03",
   "metadata": {
    "_cell_guid": "c578812c-846f-4718-a658-f73ae85080f9",
    "_uuid": "8d267231-749b-44e8-be04-11969e9a385a",
    "collapsed": false,
    "execution": {
     "iopub.execute_input": "2022-03-24T11:18:14.274914Z",
     "iopub.status.busy": "2022-03-24T11:18:14.274106Z",
     "iopub.status.idle": "2022-03-24T11:18:19.293019Z",
     "shell.execute_reply": "2022-03-24T11:18:19.292451Z",
     "shell.execute_reply.started": "2022-03-13T08:15:58.2821Z"
    },
    "jupyter": {
     "outputs_hidden": false
    },
    "papermill": {
     "duration": 5.040466,
     "end_time": "2022-03-24T11:18:19.293202",
     "exception": false,
     "start_time": "2022-03-24T11:18:14.252736",
     "status": "completed"
    },
    "tags": []
   },
   "outputs": [],
   "source": [
    "import os\n",
    "import numpy as np\n",
    "import pandas as pd\n",
    "import matplotlib.pyplot as plt\n",
    "\n",
    "import tensorflow as tf\n",
    "\n",
    "from tensorflow import keras\n",
    "from tensorflow.keras import layers\n",
    "from tensorflow.keras import models\n",
    "from tensorflow.keras.models import Sequential\n",
    "from tensorflow.keras.preprocessing.image import ImageDataGenerator"
   ]
  },
  {
   "cell_type": "code",
   "execution_count": 2,
   "id": "585956ea",
   "metadata": {
    "execution": {
     "iopub.execute_input": "2022-03-24T11:18:19.323350Z",
     "iopub.status.busy": "2022-03-24T11:18:19.322513Z",
     "iopub.status.idle": "2022-03-24T11:18:19.325701Z",
     "shell.execute_reply": "2022-03-24T11:18:19.326166Z",
     "shell.execute_reply.started": "2022-03-13T08:16:03.44968Z"
    },
    "papermill": {
     "duration": 0.021665,
     "end_time": "2022-03-24T11:18:19.326321",
     "exception": false,
     "start_time": "2022-03-24T11:18:19.304656",
     "status": "completed"
    },
    "tags": []
   },
   "outputs": [
    {
     "name": "stdout",
     "output_type": "stream",
     "text": [
      "Kaggle environment detected\n"
     ]
    }
   ],
   "source": [
    "running_on_kaggle = os.environ.get('KAGGLE_KERNEL_RUN_TYPE', 'Localhost') != 'Localhost'\n",
    "\n",
    "if running_on_kaggle:\n",
    "    print('Kaggle environment detected')\n",
    "    # !nvidia-smi\n",
    "    data_dir = '/kaggle/input/food41/images/'\n",
    "else:\n",
    "    print('Running on localhost')\n",
    "    data_dir = './dataset/food/images/'\n",
    "    !pip install --quiet -r requirements.txt\n",
    "    !python download_data.py"
   ]
  },
  {
   "cell_type": "code",
   "execution_count": 3,
   "id": "4d02fecc",
   "metadata": {
    "execution": {
     "iopub.execute_input": "2022-03-24T11:18:19.350749Z",
     "iopub.status.busy": "2022-03-24T11:18:19.350007Z",
     "iopub.status.idle": "2022-03-24T11:18:19.353585Z",
     "shell.execute_reply": "2022-03-24T11:18:19.353063Z",
     "shell.execute_reply.started": "2022-03-13T08:16:03.46509Z"
    },
    "papermill": {
     "duration": 0.017253,
     "end_time": "2022-03-24T11:18:19.353706",
     "exception": false,
     "start_time": "2022-03-24T11:18:19.336453",
     "status": "completed"
    },
    "tags": []
   },
   "outputs": [],
   "source": [
    "batch_size = 32\n",
    "\n",
    "img_height = 224\n",
    "img_width = 224"
   ]
  },
  {
   "cell_type": "code",
   "execution_count": 4,
   "id": "66571065",
   "metadata": {
    "execution": {
     "iopub.execute_input": "2022-03-24T11:18:19.380627Z",
     "iopub.status.busy": "2022-03-24T11:18:19.378754Z",
     "iopub.status.idle": "2022-03-24T11:18:19.381249Z",
     "shell.execute_reply": "2022-03-24T11:18:19.381675Z",
     "shell.execute_reply.started": "2022-03-13T08:16:03.475517Z"
    },
    "papermill": {
     "duration": 0.018387,
     "end_time": "2022-03-24T11:18:19.381815",
     "exception": false,
     "start_time": "2022-03-24T11:18:19.363428",
     "status": "completed"
    },
    "tags": []
   },
   "outputs": [],
   "source": [
    "train_data_generator = ImageDataGenerator(\n",
    "    rescale = 1./255,\n",
    "    rotation_range=40,\n",
    "    width_shift_range=0.2,\n",
    "    height_shift_range=0.2,\n",
    "    shear_range=0.2,\n",
    "    zoom_range=0.2,\n",
    "    horizontal_flip=True,\n",
    "    fill_mode='nearest',\n",
    "    validation_split = 0.2)\n",
    "\n",
    "test_data_generator = ImageDataGenerator(\n",
    "    rescale = 1./255,\n",
    "    validation_split = 0.2)"
   ]
  },
  {
   "cell_type": "code",
   "execution_count": 5,
   "id": "6b01e042",
   "metadata": {
    "execution": {
     "iopub.execute_input": "2022-03-24T11:18:19.406799Z",
     "iopub.status.busy": "2022-03-24T11:18:19.406231Z",
     "iopub.status.idle": "2022-03-24T11:18:40.690792Z",
     "shell.execute_reply": "2022-03-24T11:18:40.691218Z",
     "shell.execute_reply.started": "2022-03-13T08:16:03.484981Z"
    },
    "papermill": {
     "duration": 21.299645,
     "end_time": "2022-03-24T11:18:40.691378",
     "exception": false,
     "start_time": "2022-03-24T11:18:19.391733",
     "status": "completed"
    },
    "tags": []
   },
   "outputs": [
    {
     "name": "stdout",
     "output_type": "stream",
     "text": [
      "Found 80800 images belonging to 101 classes.\n",
      "Found 20200 images belonging to 101 classes.\n"
     ]
    }
   ],
   "source": [
    "train_data = train_data_generator.flow_from_directory(\n",
    "    data_dir,\n",
    "    target_size = (img_width, img_height),\n",
    "    batch_size = batch_size,\n",
    "    class_mode = 'categorical',\n",
    "    subset = 'training')\n",
    "\n",
    "val_data = test_data_generator.flow_from_directory(\n",
    "    data_dir,\n",
    "    target_size = (img_width, img_height),\n",
    "    batch_size = batch_size,\n",
    "    class_mode='categorical',\n",
    "    subset = 'validation')"
   ]
  },
  {
   "cell_type": "markdown",
   "id": "eb1ea668",
   "metadata": {
    "papermill": {
     "duration": 0.010265,
     "end_time": "2022-03-24T11:18:40.711850",
     "exception": false,
     "start_time": "2022-03-24T11:18:40.701585",
     "status": "completed"
    },
    "tags": []
   },
   "source": [
    "# InceptionV3"
   ]
  },
  {
   "cell_type": "code",
   "execution_count": 6,
   "id": "d9f0301f",
   "metadata": {
    "execution": {
     "iopub.execute_input": "2022-03-24T11:18:40.741709Z",
     "iopub.status.busy": "2022-03-24T11:18:40.741121Z",
     "iopub.status.idle": "2022-03-24T11:18:45.622516Z",
     "shell.execute_reply": "2022-03-24T11:18:45.622985Z",
     "shell.execute_reply.started": "2022-03-13T08:16:25.707114Z"
    },
    "papermill": {
     "duration": 4.90073,
     "end_time": "2022-03-24T11:18:45.623159",
     "exception": false,
     "start_time": "2022-03-24T11:18:40.722429",
     "status": "completed"
    },
    "tags": []
   },
   "outputs": [
    {
     "name": "stderr",
     "output_type": "stream",
     "text": [
      "2022-03-24 11:18:40.840739: I tensorflow/stream_executor/cuda/cuda_gpu_executor.cc:937] successful NUMA node read from SysFS had negative value (-1), but there must be at least one NUMA node, so returning NUMA node zero\n",
      "2022-03-24 11:18:40.948630: I tensorflow/stream_executor/cuda/cuda_gpu_executor.cc:937] successful NUMA node read from SysFS had negative value (-1), but there must be at least one NUMA node, so returning NUMA node zero\n",
      "2022-03-24 11:18:40.949508: I tensorflow/stream_executor/cuda/cuda_gpu_executor.cc:937] successful NUMA node read from SysFS had negative value (-1), but there must be at least one NUMA node, so returning NUMA node zero\n",
      "2022-03-24 11:18:40.951188: I tensorflow/core/platform/cpu_feature_guard.cc:142] This TensorFlow binary is optimized with oneAPI Deep Neural Network Library (oneDNN) to use the following CPU instructions in performance-critical operations:  AVX2 AVX512F FMA\n",
      "To enable them in other operations, rebuild TensorFlow with the appropriate compiler flags.\n",
      "2022-03-24 11:18:40.952365: I tensorflow/stream_executor/cuda/cuda_gpu_executor.cc:937] successful NUMA node read from SysFS had negative value (-1), but there must be at least one NUMA node, so returning NUMA node zero\n",
      "2022-03-24 11:18:40.953058: I tensorflow/stream_executor/cuda/cuda_gpu_executor.cc:937] successful NUMA node read from SysFS had negative value (-1), but there must be at least one NUMA node, so returning NUMA node zero\n",
      "2022-03-24 11:18:40.953720: I tensorflow/stream_executor/cuda/cuda_gpu_executor.cc:937] successful NUMA node read from SysFS had negative value (-1), but there must be at least one NUMA node, so returning NUMA node zero\n",
      "2022-03-24 11:18:42.854288: I tensorflow/stream_executor/cuda/cuda_gpu_executor.cc:937] successful NUMA node read from SysFS had negative value (-1), but there must be at least one NUMA node, so returning NUMA node zero\n",
      "2022-03-24 11:18:42.855053: I tensorflow/stream_executor/cuda/cuda_gpu_executor.cc:937] successful NUMA node read from SysFS had negative value (-1), but there must be at least one NUMA node, so returning NUMA node zero\n",
      "2022-03-24 11:18:42.855743: I tensorflow/stream_executor/cuda/cuda_gpu_executor.cc:937] successful NUMA node read from SysFS had negative value (-1), but there must be at least one NUMA node, so returning NUMA node zero\n",
      "2022-03-24 11:18:42.856410: I tensorflow/core/common_runtime/gpu/gpu_device.cc:1510] Created device /job:localhost/replica:0/task:0/device:GPU:0 with 15403 MB memory:  -> device: 0, name: Tesla P100-PCIE-16GB, pci bus id: 0000:00:04.0, compute capability: 6.0\n"
     ]
    },
    {
     "name": "stdout",
     "output_type": "stream",
     "text": [
      "Downloading data from https://storage.googleapis.com/tensorflow/keras-applications/inception_v3/inception_v3_weights_tf_dim_ordering_tf_kernels_notop.h5\n",
      "87916544/87910968 [==============================] - 0s 0us/step\n",
      "87924736/87910968 [==============================] - 0s 0us/step\n"
     ]
    }
   ],
   "source": [
    "InceptionV3 = tf.keras.applications.inception_v3.InceptionV3(\n",
    "    input_shape=(224, 224, 3),\n",
    "    include_top=False,\n",
    "    weights='imagenet',\n",
    "    classes=101)\n",
    "\n",
    "# for layer in InceptionV3.layers:\n",
    "#     layer.trainable = False\n",
    "    \n",
    "x = InceptionV3.output\n",
    "x = layers.AveragePooling2D()(x)\n",
    "x = layers.Dropout(0.5)(x)\n",
    "x = layers.Flatten()(x)\n",
    "output = layers.Dense(101, activation='softmax')(x)\n",
    "model = models.Model(InceptionV3.input, output)\n",
    "\n",
    "model.compile(loss='categorical_crossentropy', \n",
    "              optimizer=tf.keras.optimizers.SGD(),\n",
    "              metrics=['accuracy'])"
   ]
  },
  {
   "cell_type": "code",
   "execution_count": 7,
   "id": "d87a0514",
   "metadata": {
    "execution": {
     "iopub.execute_input": "2022-03-24T11:18:45.660282Z",
     "iopub.status.busy": "2022-03-24T11:18:45.659418Z",
     "iopub.status.idle": "2022-03-24T19:35:46.911703Z",
     "shell.execute_reply": "2022-03-24T19:35:46.912089Z",
     "shell.execute_reply.started": "2022-03-13T08:16:30.282188Z"
    },
    "papermill": {
     "duration": 29821.273483,
     "end_time": "2022-03-24T19:35:46.912326",
     "exception": false,
     "start_time": "2022-03-24T11:18:45.638843",
     "status": "completed"
    },
    "tags": []
   },
   "outputs": [
    {
     "name": "stderr",
     "output_type": "stream",
     "text": [
      "2022-03-24 11:18:46.421085: I tensorflow/compiler/mlir/mlir_graph_optimization_pass.cc:185] None of the MLIR Optimization Passes are enabled (registered 2)\n"
     ]
    },
    {
     "name": "stdout",
     "output_type": "stream",
     "text": [
      "Epoch 1/20\n"
     ]
    },
    {
     "name": "stderr",
     "output_type": "stream",
     "text": [
      "2022-03-24 11:18:53.428212: I tensorflow/stream_executor/cuda/cuda_dnn.cc:369] Loaded cuDNN version 8005\n"
     ]
    },
    {
     "name": "stdout",
     "output_type": "stream",
     "text": [
      "2525/2525 [==============================] - 2134s 840ms/step - loss: 2.6122 - accuracy: 0.3770 - val_loss: 1.7320 - val_accuracy: 0.5577\n",
      "Epoch 2/20\n",
      "2525/2525 [==============================] - 1471s 583ms/step - loss: 1.5609 - accuracy: 0.5987 - val_loss: 1.4205 - val_accuracy: 0.6330\n",
      "Epoch 3/20\n",
      "2525/2525 [==============================] - 1464s 580ms/step - loss: 1.3047 - accuracy: 0.6578 - val_loss: 1.2098 - val_accuracy: 0.6860\n",
      "Epoch 4/20\n",
      "2525/2525 [==============================] - 1426s 565ms/step - loss: 1.1478 - accuracy: 0.6953 - val_loss: 1.2332 - val_accuracy: 0.6840\n",
      "Epoch 5/20\n",
      "2525/2525 [==============================] - 1441s 571ms/step - loss: 1.0468 - accuracy: 0.7214 - val_loss: 1.1165 - val_accuracy: 0.7116\n",
      "Epoch 6/20\n",
      "2525/2525 [==============================] - 1451s 575ms/step - loss: 0.9643 - accuracy: 0.7406 - val_loss: 1.1047 - val_accuracy: 0.7172\n",
      "Epoch 7/20\n",
      "2525/2525 [==============================] - 1407s 557ms/step - loss: 0.8889 - accuracy: 0.7593 - val_loss: 1.0600 - val_accuracy: 0.7307\n",
      "Epoch 8/20\n",
      "2525/2525 [==============================] - 1424s 564ms/step - loss: 0.8337 - accuracy: 0.7705 - val_loss: 1.0576 - val_accuracy: 0.7313\n",
      "Epoch 9/20\n",
      "2525/2525 [==============================] - 1435s 568ms/step - loss: 0.7812 - accuracy: 0.7842 - val_loss: 1.1182 - val_accuracy: 0.7243\n",
      "Epoch 10/20\n",
      "2525/2525 [==============================] - 1450s 574ms/step - loss: 0.7327 - accuracy: 0.7951 - val_loss: 0.9879 - val_accuracy: 0.7506\n",
      "Epoch 11/20\n",
      "2525/2525 [==============================] - 1424s 564ms/step - loss: 0.6948 - accuracy: 0.8054 - val_loss: 1.0462 - val_accuracy: 0.7430\n",
      "Epoch 12/20\n",
      "2525/2525 [==============================] - 1413s 560ms/step - loss: 0.6539 - accuracy: 0.8162 - val_loss: 1.0217 - val_accuracy: 0.7505\n",
      "Epoch 13/20\n",
      "2525/2525 [==============================] - 1427s 565ms/step - loss: 0.6117 - accuracy: 0.8274 - val_loss: 1.0125 - val_accuracy: 0.7568\n",
      "Epoch 14/20\n",
      "2525/2525 [==============================] - 1439s 570ms/step - loss: 0.5863 - accuracy: 0.8329 - val_loss: 1.0742 - val_accuracy: 0.7471\n",
      "Epoch 15/20\n",
      "2525/2525 [==============================] - 1438s 570ms/step - loss: 0.5605 - accuracy: 0.8399 - val_loss: 1.0216 - val_accuracy: 0.7539\n",
      "Epoch 16/20\n",
      "2525/2525 [==============================] - 1430s 566ms/step - loss: 0.5330 - accuracy: 0.8475 - val_loss: 1.0824 - val_accuracy: 0.7450\n",
      "Epoch 17/20\n",
      "2525/2525 [==============================] - 1434s 568ms/step - loss: 0.5067 - accuracy: 0.8528 - val_loss: 1.0288 - val_accuracy: 0.7600\n",
      "Epoch 18/20\n",
      "2525/2525 [==============================] - 1444s 572ms/step - loss: 0.4804 - accuracy: 0.8609 - val_loss: 1.0334 - val_accuracy: 0.7620\n",
      "Epoch 19/20\n",
      "2525/2525 [==============================] - 1466s 581ms/step - loss: 0.4599 - accuracy: 0.8649 - val_loss: 1.1757 - val_accuracy: 0.7343\n",
      "Epoch 20/20\n",
      "2525/2525 [==============================] - 1479s 586ms/step - loss: 0.4294 - accuracy: 0.8745 - val_loss: 1.1006 - val_accuracy: 0.7548\n"
     ]
    }
   ],
   "source": [
    "epochs=20\n",
    "history = model.fit(\n",
    "  train_data,\n",
    "  validation_data=val_data,\n",
    "  epochs=epochs\n",
    ")"
   ]
  },
  {
   "cell_type": "code",
   "execution_count": 8,
   "id": "6765fdd7",
   "metadata": {
    "execution": {
     "iopub.execute_input": "2022-03-24T19:36:19.486328Z",
     "iopub.status.busy": "2022-03-24T19:36:19.485682Z",
     "iopub.status.idle": "2022-03-24T19:36:19.766588Z",
     "shell.execute_reply": "2022-03-24T19:36:19.766147Z"
    },
    "papermill": {
     "duration": 16.163762,
     "end_time": "2022-03-24T19:36:19.766713",
     "exception": false,
     "start_time": "2022-03-24T19:36:03.602951",
     "status": "completed"
    },
    "tags": []
   },
   "outputs": [
    {
     "data": {
      "image/png": "[encoded data removed]",
      "text/plain": [
       "<Figure size 576x576 with 2 Axes>"
      ]
     },
     "metadata": {
      "needs_background": "light"
     },
     "output_type": "display_data"
    }
   ],
   "source": [
    "acc = history.history['accuracy']\n",
    "val_acc = history.history['val_accuracy']\n",
    "\n",
    "loss = history.history['loss']\n",
    "val_loss = history.history['val_loss']\n",
    "\n",
    "epochs_range = range(epochs)\n",
    "\n",
    "plt.figure(figsize=(8, 8))\n",
    "plt.subplot(1, 2, 1)\n",
    "plt.plot(epochs_range, acc, label='Training Accuracy')\n",
    "plt.plot(epochs_range, val_acc, label='Validation Accuracy')\n",
    "plt.legend(loc='lower right')\n",
    "plt.title('Training and Validation Accuracy')\n",
    "\n",
    "plt.subplot(1, 2, 2)\n",
    "plt.plot(epochs_range, loss, label='Training Loss')\n",
    "plt.plot(epochs_range, val_loss, label='Validation Loss')\n",
    "plt.legend(loc='upper right')\n",
    "plt.title('Training and Validation Loss')\n",
    "plt.show()"
   ]
  },
  {
   "cell_type": "code",
   "execution_count": 9,
   "id": "499518d3",
   "metadata": {
    "execution": {
     "iopub.execute_input": "2022-03-24T19:36:52.403061Z",
     "iopub.status.busy": "2022-03-24T19:36:52.401845Z",
     "iopub.status.idle": "2022-03-24T19:37:31.245781Z",
     "shell.execute_reply": "2022-03-24T19:37:31.245145Z",
     "shell.execute_reply.started": "2022-03-13T08:17:24.463479Z"
    },
    "papermill": {
     "duration": 54.764902,
     "end_time": "2022-03-24T19:37:31.245958",
     "exception": false,
     "start_time": "2022-03-24T19:36:36.481056",
     "status": "completed"
    },
    "tags": []
   },
   "outputs": [
    {
     "name": "stderr",
     "output_type": "stream",
     "text": [
      "2022-03-24 19:37:07.340358: W tensorflow/python/util/util.cc:348] Sets are not currently considered sequences, but this may change in the future, so consider avoiding using them.\n"
     ]
    }
   ],
   "source": [
    "model.save('/kaggle/working/model')"
   ]
  }
 ],
 "metadata": {
  "kernelspec": {
   "display_name": "Python 3",
   "language": "python",
   "name": "python3"
  },
  "language_info": {
   "codemirror_mode": {
    "name": "ipython",
    "version": 3
   },
   "file_extension": ".py",
   "mimetype": "text/x-python",
   "name": "python",
   "nbconvert_exporter": "python",
   "pygments_lexer": "ipython3",
   "version": "3.7.12"
  },
  "papermill": {
   "default_parameters": {},
   "duration": 29985.081164,
   "end_time": "2022-03-24T19:37:50.989264",
   "environment_variables": {},
   "exception": null,
   "input_path": "__notebook__.ipynb",
   "output_path": "__notebook__.ipynb",
   "parameters": {},
   "start_time": "2022-03-24T11:18:05.908100",
   "version": "2.3.3"
  }
 },
 "nbformat": 4,
 "nbformat_minor": 5
}
