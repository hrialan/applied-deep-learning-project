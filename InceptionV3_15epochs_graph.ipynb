{
 "cells": [
  {
   "cell_type": "code",
   "execution_count": 1,
   "id": "473165b5",
   "metadata": {
    "_cell_guid": "c578812c-846f-4718-a658-f73ae85080f9",
    "_uuid": "8d267231-749b-44e8-be04-11969e9a385a",
    "collapsed": false,
    "execution": {
     "iopub.execute_input": "2022-03-26T17:11:07.389908Z",
     "iopub.status.busy": "2022-03-26T17:11:07.389123Z",
     "iopub.status.idle": "2022-03-26T17:11:12.800190Z",
     "shell.execute_reply": "2022-03-26T17:11:12.799610Z",
     "shell.execute_reply.started": "2022-03-13T08:15:58.2821Z"
    },
    "jupyter": {
     "outputs_hidden": false
    },
    "papermill": {
     "duration": 5.432117,
     "end_time": "2022-03-26T17:11:12.800336",
     "exception": false,
     "start_time": "2022-03-26T17:11:07.368219",
     "status": "completed"
    },
    "tags": []
   },
   "outputs": [],
   "source": [
    "import os\n",
    "import numpy as np\n",
    "import pandas as pd\n",
    "import matplotlib.pyplot as plt\n",
    "\n",
    "import tensorflow as tf\n",
    "\n",
    "from tensorflow import keras\n",
    "from tensorflow.keras import layers\n",
    "from tensorflow.keras import models\n",
    "from tensorflow.keras.models import Sequential\n",
    "from tensorflow.keras.preprocessing.image import ImageDataGenerator"
   ]
  },
  {
   "cell_type": "code",
   "execution_count": 2,
   "id": "c37b1046",
   "metadata": {
    "execution": {
     "iopub.execute_input": "2022-03-26T17:11:12.827593Z",
     "iopub.status.busy": "2022-03-26T17:11:12.826874Z",
     "iopub.status.idle": "2022-03-26T17:11:12.829891Z",
     "shell.execute_reply": "2022-03-26T17:11:12.830301Z",
     "shell.execute_reply.started": "2022-03-13T08:16:03.44968Z"
    },
    "papermill": {
     "duration": 0.020079,
     "end_time": "2022-03-26T17:11:12.830442",
     "exception": false,
     "start_time": "2022-03-26T17:11:12.810363",
     "status": "completed"
    },
    "tags": []
   },
   "outputs": [
    {
     "name": "stdout",
     "output_type": "stream",
     "text": [
      "Kaggle environment detected\n"
     ]
    }
   ],
   "source": [
    "running_on_kaggle = os.environ.get('KAGGLE_KERNEL_RUN_TYPE', 'Localhost') != 'Localhost'\n",
    "\n",
    "if running_on_kaggle:\n",
    "    print('Kaggle environment detected')\n",
    "    # !nvidia-smi\n",
    "    data_dir = '/kaggle/input/food41/images/'\n",
    "else:\n",
    "    print('Running on localhost')\n",
    "    data_dir = './dataset/food/images/'\n",
    "    !pip install --quiet -r requirements.txt\n",
    "    !python download_data.py"
   ]
  },
  {
   "cell_type": "code",
   "execution_count": 3,
   "id": "42a96421",
   "metadata": {
    "execution": {
     "iopub.execute_input": "2022-03-26T17:11:12.853535Z",
     "iopub.status.busy": "2022-03-26T17:11:12.852858Z",
     "iopub.status.idle": "2022-03-26T17:11:12.855649Z",
     "shell.execute_reply": "2022-03-26T17:11:12.855184Z",
     "shell.execute_reply.started": "2022-03-13T08:16:03.46509Z"
    },
    "papermill": {
     "duration": 0.015697,
     "end_time": "2022-03-26T17:11:12.855765",
     "exception": false,
     "start_time": "2022-03-26T17:11:12.840068",
     "status": "completed"
    },
    "tags": []
   },
   "outputs": [],
   "source": [
    "batch_size = 32\n",
    "\n",
    "img_height = 224\n",
    "img_width = 224"
   ]
  },
  {
   "cell_type": "code",
   "execution_count": 4,
   "id": "f5ad0e21",
   "metadata": {
    "execution": {
     "iopub.execute_input": "2022-03-26T17:11:12.880396Z",
     "iopub.status.busy": "2022-03-26T17:11:12.879579Z",
     "iopub.status.idle": "2022-03-26T17:11:12.882058Z",
     "shell.execute_reply": "2022-03-26T17:11:12.881641Z",
     "shell.execute_reply.started": "2022-03-13T08:16:03.475517Z"
    },
    "papermill": {
     "duration": 0.017149,
     "end_time": "2022-03-26T17:11:12.882171",
     "exception": false,
     "start_time": "2022-03-26T17:11:12.865022",
     "status": "completed"
    },
    "tags": []
   },
   "outputs": [],
   "source": [
    "train_data_generator = ImageDataGenerator(\n",
    "    rescale = 1./255,\n",
    "    rotation_range=40,\n",
    "    width_shift_range=0.2,\n",
    "    height_shift_range=0.2,\n",
    "    shear_range=0.2,\n",
    "    zoom_range=0.2,\n",
    "    horizontal_flip=True,\n",
    "    fill_mode='nearest',\n",
    "    validation_split = 0.2)\n",
    "\n",
    "test_data_generator = ImageDataGenerator(\n",
    "    rescale = 1./255,\n",
    "    validation_split = 0.2)"
   ]
  },
  {
   "cell_type": "code",
   "execution_count": 5,
   "id": "4ec5a554",
   "metadata": {
    "execution": {
     "iopub.execute_input": "2022-03-26T17:11:12.906981Z",
     "iopub.status.busy": "2022-03-26T17:11:12.906410Z",
     "iopub.status.idle": "2022-03-26T17:11:33.096179Z",
     "shell.execute_reply": "2022-03-26T17:11:33.095737Z",
     "shell.execute_reply.started": "2022-03-13T08:16:03.484981Z"
    },
    "papermill": {
     "duration": 20.204519,
     "end_time": "2022-03-26T17:11:33.096295",
     "exception": false,
     "start_time": "2022-03-26T17:11:12.891776",
     "status": "completed"
    },
    "tags": []
   },
   "outputs": [
    {
     "name": "stdout",
     "output_type": "stream",
     "text": [
      "Found 80800 images belonging to 101 classes.\n",
      "Found 20200 images belonging to 101 classes.\n"
     ]
    }
   ],
   "source": [
    "train_data = train_data_generator.flow_from_directory(\n",
    "    data_dir,\n",
    "    target_size = (img_width, img_height),\n",
    "    batch_size = batch_size,\n",
    "    class_mode = 'categorical',\n",
    "    subset = 'training')\n",
    "\n",
    "val_data = test_data_generator.flow_from_directory(\n",
    "    data_dir,\n",
    "    target_size = (img_width, img_height),\n",
    "    batch_size = batch_size,\n",
    "    class_mode='categorical',\n",
    "    subset = 'validation')"
   ]
  },
  {
   "cell_type": "markdown",
   "id": "140012cf",
   "metadata": {
    "papermill": {
     "duration": 0.009987,
     "end_time": "2022-03-26T17:11:33.116489",
     "exception": false,
     "start_time": "2022-03-26T17:11:33.106502",
     "status": "completed"
    },
    "tags": []
   },
   "source": [
    "# InceptionV3"
   ]
  },
  {
   "cell_type": "code",
   "execution_count": 6,
   "id": "6b35cdc1",
   "metadata": {
    "execution": {
     "iopub.execute_input": "2022-03-26T17:11:33.146690Z",
     "iopub.status.busy": "2022-03-26T17:11:33.146123Z",
     "iopub.status.idle": "2022-03-26T17:11:38.189216Z",
     "shell.execute_reply": "2022-03-26T17:11:38.189778Z",
     "shell.execute_reply.started": "2022-03-13T08:16:25.707114Z"
    },
    "papermill": {
     "duration": 5.063356,
     "end_time": "2022-03-26T17:11:38.189953",
     "exception": false,
     "start_time": "2022-03-26T17:11:33.126597",
     "status": "completed"
    },
    "tags": []
   },
   "outputs": [
    {
     "name": "stderr",
     "output_type": "stream",
     "text": [
      "2022-03-26 17:11:33.239852: I tensorflow/stream_executor/cuda/cuda_gpu_executor.cc:937] successful NUMA node read from SysFS had negative value (-1), but there must be at least one NUMA node, so returning NUMA node zero\n",
      "2022-03-26 17:11:33.367632: I tensorflow/stream_executor/cuda/cuda_gpu_executor.cc:937] successful NUMA node read from SysFS had negative value (-1), but there must be at least one NUMA node, so returning NUMA node zero\n",
      "2022-03-26 17:11:33.368338: I tensorflow/stream_executor/cuda/cuda_gpu_executor.cc:937] successful NUMA node read from SysFS had negative value (-1), but there must be at least one NUMA node, so returning NUMA node zero\n",
      "2022-03-26 17:11:33.369899: I tensorflow/core/platform/cpu_feature_guard.cc:142] This TensorFlow binary is optimized with oneAPI Deep Neural Network Library (oneDNN) to use the following CPU instructions in performance-critical operations:  AVX2 AVX512F FMA\n",
      "To enable them in other operations, rebuild TensorFlow with the appropriate compiler flags.\n",
      "2022-03-26 17:11:33.370687: I tensorflow/stream_executor/cuda/cuda_gpu_executor.cc:937] successful NUMA node read from SysFS had negative value (-1), but there must be at least one NUMA node, so returning NUMA node zero\n",
      "2022-03-26 17:11:33.371336: I tensorflow/stream_executor/cuda/cuda_gpu_executor.cc:937] successful NUMA node read from SysFS had negative value (-1), but there must be at least one NUMA node, so returning NUMA node zero\n",
      "2022-03-26 17:11:33.371983: I tensorflow/stream_executor/cuda/cuda_gpu_executor.cc:937] successful NUMA node read from SysFS had negative value (-1), but there must be at least one NUMA node, so returning NUMA node zero\n",
      "2022-03-26 17:11:35.255926: I tensorflow/stream_executor/cuda/cuda_gpu_executor.cc:937] successful NUMA node read from SysFS had negative value (-1), but there must be at least one NUMA node, so returning NUMA node zero\n",
      "2022-03-26 17:11:35.256727: I tensorflow/stream_executor/cuda/cuda_gpu_executor.cc:937] successful NUMA node read from SysFS had negative value (-1), but there must be at least one NUMA node, so returning NUMA node zero\n",
      "2022-03-26 17:11:35.257406: I tensorflow/stream_executor/cuda/cuda_gpu_executor.cc:937] successful NUMA node read from SysFS had negative value (-1), but there must be at least one NUMA node, so returning NUMA node zero\n",
      "2022-03-26 17:11:35.257979: I tensorflow/core/common_runtime/gpu/gpu_device.cc:1510] Created device /job:localhost/replica:0/task:0/device:GPU:0 with 15403 MB memory:  -> device: 0, name: Tesla P100-PCIE-16GB, pci bus id: 0000:00:04.0, compute capability: 6.0\n"
     ]
    },
    {
     "name": "stdout",
     "output_type": "stream",
     "text": [
      "Downloading data from https://storage.googleapis.com/tensorflow/keras-applications/inception_v3/inception_v3_weights_tf_dim_ordering_tf_kernels_notop.h5\n",
      "87916544/87910968 [==============================] - 1s 0us/step\n",
      "87924736/87910968 [==============================] - 1s 0us/step\n"
     ]
    }
   ],
   "source": [
    "InceptionV3 = tf.keras.applications.inception_v3.InceptionV3(\n",
    "    input_shape=(224, 224, 3),\n",
    "    include_top=False,\n",
    "    weights='imagenet',\n",
    "    classes=101)\n",
    "\n",
    "# for layer in InceptionV3.layers:\n",
    "#     layer.trainable = False\n",
    "    \n",
    "x = InceptionV3.output\n",
    "x = layers.AveragePooling2D()(x)\n",
    "x = layers.Dropout(0.5)(x)\n",
    "x = layers.Flatten()(x)\n",
    "output = layers.Dense(101, activation='softmax')(x)\n",
    "model = models.Model(InceptionV3.input, output)\n",
    "\n",
    "model.compile(loss='categorical_crossentropy', \n",
    "              optimizer=tf.keras.optimizers.SGD(),\n",
    "              metrics=['accuracy'])"
   ]
  },
  {
   "cell_type": "code",
   "execution_count": 7,
   "id": "4ceff29f",
   "metadata": {
    "execution": {
     "iopub.execute_input": "2022-03-26T17:11:38.234991Z",
     "iopub.status.busy": "2022-03-26T17:11:38.234157Z",
     "iopub.status.idle": "2022-03-26T23:20:05.209260Z",
     "shell.execute_reply": "2022-03-26T23:20:05.209712Z",
     "shell.execute_reply.started": "2022-03-13T08:16:30.282188Z"
    },
    "papermill": {
     "duration": 22107.001126,
     "end_time": "2022-03-26T23:20:05.209900",
     "exception": false,
     "start_time": "2022-03-26T17:11:38.208774",
     "status": "completed"
    },
    "tags": []
   },
   "outputs": [
    {
     "name": "stderr",
     "output_type": "stream",
     "text": [
      "2022-03-26 17:11:38.957916: I tensorflow/compiler/mlir/mlir_graph_optimization_pass.cc:185] None of the MLIR Optimization Passes are enabled (registered 2)\n"
     ]
    },
    {
     "name": "stdout",
     "output_type": "stream",
     "text": [
      "Epoch 1/15\n"
     ]
    },
    {
     "name": "stderr",
     "output_type": "stream",
     "text": [
      "2022-03-26 17:11:45.502227: I tensorflow/stream_executor/cuda/cuda_dnn.cc:369] Loaded cuDNN version 8005\n"
     ]
    },
    {
     "name": "stdout",
     "output_type": "stream",
     "text": [
      "2525/2525 [==============================] - 1927s 758ms/step - loss: 2.5597 - accuracy: 0.3889 - val_loss: 1.6550 - val_accuracy: 0.5806\n",
      "Epoch 2/15\n",
      "2525/2525 [==============================] - 1376s 545ms/step - loss: 1.5443 - accuracy: 0.6022 - val_loss: 1.2578 - val_accuracy: 0.6733\n",
      "Epoch 3/15\n",
      "2525/2525 [==============================] - 1420s 562ms/step - loss: 1.2914 - accuracy: 0.6605 - val_loss: 1.1238 - val_accuracy: 0.7072\n",
      "Epoch 4/15\n",
      "2525/2525 [==============================] - 1431s 566ms/step - loss: 1.1389 - accuracy: 0.6970 - val_loss: 1.1023 - val_accuracy: 0.7176\n",
      "Epoch 5/15\n",
      "2525/2525 [==============================] - 1430s 566ms/step - loss: 1.0329 - accuracy: 0.7236 - val_loss: 1.2813 - val_accuracy: 0.6764\n",
      "Epoch 6/15\n",
      "2525/2525 [==============================] - 1418s 561ms/step - loss: 0.9487 - accuracy: 0.7449 - val_loss: 1.2605 - val_accuracy: 0.6883\n",
      "Epoch 7/15\n",
      "2525/2525 [==============================] - 1434s 568ms/step - loss: 0.8757 - accuracy: 0.7635 - val_loss: 1.0150 - val_accuracy: 0.7401\n",
      "Epoch 8/15\n",
      "2525/2525 [==============================] - 1433s 567ms/step - loss: 0.8134 - accuracy: 0.7766 - val_loss: 1.0329 - val_accuracy: 0.7429\n",
      "Epoch 9/15\n",
      "2525/2525 [==============================] - 1436s 569ms/step - loss: 0.7702 - accuracy: 0.7880 - val_loss: 0.9773 - val_accuracy: 0.7548\n",
      "Epoch 10/15\n",
      "2525/2525 [==============================] - 1447s 573ms/step - loss: 0.7185 - accuracy: 0.8010 - val_loss: 1.0216 - val_accuracy: 0.7505\n",
      "Epoch 11/15\n",
      "2525/2525 [==============================] - 1416s 561ms/step - loss: 0.6784 - accuracy: 0.8100 - val_loss: 1.0572 - val_accuracy: 0.7419\n",
      "Epoch 12/15\n",
      "2525/2525 [==============================] - 1412s 559ms/step - loss: 0.6451 - accuracy: 0.8189 - val_loss: 1.0139 - val_accuracy: 0.7528\n",
      "Epoch 13/15\n",
      "2525/2525 [==============================] - 1452s 575ms/step - loss: 0.6070 - accuracy: 0.8277 - val_loss: 1.0301 - val_accuracy: 0.7553\n",
      "Epoch 14/15\n",
      "2525/2525 [==============================] - 1424s 564ms/step - loss: 0.5769 - accuracy: 0.8351 - val_loss: 1.1037 - val_accuracy: 0.7402\n",
      "Epoch 15/15\n",
      "2525/2525 [==============================] - 1437s 569ms/step - loss: 0.5382 - accuracy: 0.8450 - val_loss: 1.0295 - val_accuracy: 0.7577\n"
     ]
    }
   ],
   "source": [
    "epochs=15\n",
    "history = model.fit(\n",
    "  train_data,\n",
    "  validation_data=val_data,\n",
    "  epochs=epochs\n",
    ")"
   ]
  },
  {
   "cell_type": "code",
   "execution_count": 8,
   "id": "cc3ba2c2",
   "metadata": {
    "execution": {
     "iopub.execute_input": "2022-03-26T23:20:30.571325Z",
     "iopub.status.busy": "2022-03-26T23:20:30.570574Z",
     "iopub.status.idle": "2022-03-26T23:20:30.856630Z",
     "shell.execute_reply": "2022-03-26T23:20:30.856129Z"
    },
    "papermill": {
     "duration": 12.573445,
     "end_time": "2022-03-26T23:20:30.856770",
     "exception": false,
     "start_time": "2022-03-26T23:20:18.283325",
     "status": "completed"
    },
    "tags": []
   },
   "outputs": [
    {
     "data": {
      "image/png": "[encoded data removed]",
      "text/plain": [
       "<Figure size 576x576 with 2 Axes>"
      ]
     },
     "metadata": {
      "needs_background": "light"
     },
     "output_type": "display_data"
    }
   ],
   "source": [
    "acc = history.history['accuracy']\n",
    "val_acc = history.history['val_accuracy']\n",
    "\n",
    "loss = history.history['loss']\n",
    "val_loss = history.history['val_loss']\n",
    "\n",
    "epochs_range = range(epochs)\n",
    "\n",
    "plt.figure(figsize=(8, 8))\n",
    "plt.subplot(1, 2, 1)\n",
    "plt.plot(epochs_range, acc, label='Training Accuracy')\n",
    "plt.plot(epochs_range, val_acc, label='Validation Accuracy')\n",
    "plt.legend(loc='lower right')\n",
    "plt.title('Training and Validation Accuracy')\n",
    "\n",
    "plt.subplot(1, 2, 2)\n",
    "plt.plot(epochs_range, loss, label='Training Loss')\n",
    "plt.plot(epochs_range, val_loss, label='Validation Loss')\n",
    "plt.legend(loc='upper right')\n",
    "plt.title('Training and Validation Loss')\n",
    "plt.show()"
   ]
  },
  {
   "cell_type": "code",
   "execution_count": 9,
   "id": "d3c6fea3",
   "metadata": {
    "execution": {
     "iopub.execute_input": "2022-03-26T23:20:56.355957Z",
     "iopub.status.busy": "2022-03-26T23:20:56.355330Z",
     "iopub.status.idle": "2022-03-26T23:21:35.211455Z",
     "shell.execute_reply": "2022-03-26T23:21:35.210764Z",
     "shell.execute_reply.started": "2022-03-13T08:17:24.463479Z"
    },
    "papermill": {
     "duration": 52.128594,
     "end_time": "2022-03-26T23:21:35.211653",
     "exception": false,
     "start_time": "2022-03-26T23:20:43.083059",
     "status": "completed"
    },
    "tags": []
   },
   "outputs": [
    {
     "name": "stderr",
     "output_type": "stream",
     "text": [
      "2022-03-26 23:21:10.814517: W tensorflow/python/util/util.cc:348] Sets are not currently considered sequences, but this may change in the future, so consider avoiding using them.\n"
     ]
    }
   ],
   "source": [
    "model.save('/kaggle/working/model')"
   ]
  }
 ],
 "metadata": {
  "kernelspec": {
   "display_name": "Python 3",
   "language": "python",
   "name": "python3"
  },
  "language_info": {
   "codemirror_mode": {
    "name": "ipython",
    "version": 3
   },
   "file_extension": ".py",
   "mimetype": "text/x-python",
   "name": "python",
   "nbconvert_exporter": "python",
   "pygments_lexer": "ipython3",
   "version": "3.7.12"
  },
  "papermill": {
   "default_parameters": {},
   "duration": 22251.639823,
   "end_time": "2022-03-26T23:21:50.291690",
   "environment_variables": {},
   "exception": null,
   "input_path": "__notebook__.ipynb",
   "output_path": "__notebook__.ipynb",
   "parameters": {},
   "start_time": "2022-03-26T17:10:58.651867",
   "version": "2.3.3"
  }
 },
 "nbformat": 4,
 "nbformat_minor": 5
}
