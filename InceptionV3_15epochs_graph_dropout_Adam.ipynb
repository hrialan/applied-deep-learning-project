{
 "cells": [
  {
   "cell_type": "code",
   "execution_count": 1,
   "id": "b198b5bd",
   "metadata": {
    "_cell_guid": "c578812c-846f-4718-a658-f73ae85080f9",
    "_uuid": "8d267231-749b-44e8-be04-11969e9a385a",
    "collapsed": false,
    "execution": {
     "iopub.execute_input": "2022-03-27T07:51:18.221199Z",
     "iopub.status.busy": "2022-03-27T07:51:18.220356Z",
     "iopub.status.idle": "2022-03-27T07:51:23.604044Z",
     "shell.execute_reply": "2022-03-27T07:51:23.603444Z",
     "shell.execute_reply.started": "2022-03-27T07:36:53.944296Z"
    },
    "jupyter": {
     "outputs_hidden": false
    },
    "papermill": {
     "duration": 5.403895,
     "end_time": "2022-03-27T07:51:23.604197",
     "exception": false,
     "start_time": "2022-03-27T07:51:18.200302",
     "status": "completed"
    },
    "tags": []
   },
   "outputs": [],
   "source": [
    "import os\n",
    "import numpy as np\n",
    "import pandas as pd\n",
    "import matplotlib.pyplot as plt\n",
    "\n",
    "import tensorflow as tf\n",
    "\n",
    "from tensorflow import keras\n",
    "from tensorflow.keras import layers\n",
    "from tensorflow.keras import models\n",
    "from tensorflow.keras.models import Sequential\n",
    "from tensorflow.keras.preprocessing.image import ImageDataGenerator"
   ]
  },
  {
   "cell_type": "code",
   "execution_count": 2,
   "id": "ecf7e668",
   "metadata": {
    "execution": {
     "iopub.execute_input": "2022-03-27T07:51:23.631255Z",
     "iopub.status.busy": "2022-03-27T07:51:23.630414Z",
     "iopub.status.idle": "2022-03-27T07:51:23.634235Z",
     "shell.execute_reply": "2022-03-27T07:51:23.634845Z",
     "shell.execute_reply.started": "2022-03-27T07:36:59.456680Z"
    },
    "papermill": {
     "duration": 0.020592,
     "end_time": "2022-03-27T07:51:23.635022",
     "exception": false,
     "start_time": "2022-03-27T07:51:23.614430",
     "status": "completed"
    },
    "tags": []
   },
   "outputs": [
    {
     "name": "stdout",
     "output_type": "stream",
     "text": [
      "Kaggle environment detected\n"
     ]
    }
   ],
   "source": [
    "running_on_kaggle = os.environ.get('KAGGLE_KERNEL_RUN_TYPE', 'Localhost') != 'Localhost'\n",
    "\n",
    "if running_on_kaggle:\n",
    "    print('Kaggle environment detected')\n",
    "    # !nvidia-smi\n",
    "    data_dir = '/kaggle/input/food41/images/'\n",
    "else:\n",
    "    print('Running on localhost')\n",
    "    data_dir = './dataset/food/images/'\n",
    "    !pip install --quiet -r requirements.txt\n",
    "    !python download_data.py"
   ]
  },
  {
   "cell_type": "code",
   "execution_count": 3,
   "id": "f1f1b385",
   "metadata": {
    "execution": {
     "iopub.execute_input": "2022-03-27T07:51:23.660716Z",
     "iopub.status.busy": "2022-03-27T07:51:23.659161Z",
     "iopub.status.idle": "2022-03-27T07:51:23.661324Z",
     "shell.execute_reply": "2022-03-27T07:51:23.661716Z",
     "shell.execute_reply.started": "2022-03-27T07:36:59.469916Z"
    },
    "papermill": {
     "duration": 0.016041,
     "end_time": "2022-03-27T07:51:23.661873",
     "exception": false,
     "start_time": "2022-03-27T07:51:23.645832",
     "status": "completed"
    },
    "tags": []
   },
   "outputs": [],
   "source": [
    "batch_size = 32\n",
    "\n",
    "img_height = 224\n",
    "img_width = 224"
   ]
  },
  {
   "cell_type": "code",
   "execution_count": 4,
   "id": "7a0346d4",
   "metadata": {
    "execution": {
     "iopub.execute_input": "2022-03-27T07:51:23.686558Z",
     "iopub.status.busy": "2022-03-27T07:51:23.685800Z",
     "iopub.status.idle": "2022-03-27T07:51:23.687706Z",
     "shell.execute_reply": "2022-03-27T07:51:23.688124Z",
     "shell.execute_reply.started": "2022-03-27T07:36:59.483020Z"
    },
    "papermill": {
     "duration": 0.01673,
     "end_time": "2022-03-27T07:51:23.688245",
     "exception": false,
     "start_time": "2022-03-27T07:51:23.671515",
     "status": "completed"
    },
    "tags": []
   },
   "outputs": [],
   "source": [
    "train_data_generator = ImageDataGenerator(\n",
    "    rescale = 1./255,\n",
    "    rotation_range=40,\n",
    "    width_shift_range=0.2,\n",
    "    height_shift_range=0.2,\n",
    "    shear_range=0.2,\n",
    "    zoom_range=0.2,\n",
    "    horizontal_flip=True,\n",
    "    fill_mode='nearest',\n",
    "    validation_split = 0.2)\n",
    "\n",
    "test_data_generator = ImageDataGenerator(\n",
    "    rescale = 1./255,\n",
    "    validation_split = 0.2)"
   ]
  },
  {
   "cell_type": "code",
   "execution_count": 5,
   "id": "71db38d9",
   "metadata": {
    "execution": {
     "iopub.execute_input": "2022-03-27T07:51:23.709997Z",
     "iopub.status.busy": "2022-03-27T07:51:23.709241Z",
     "iopub.status.idle": "2022-03-27T07:51:30.309248Z",
     "shell.execute_reply": "2022-03-27T07:51:30.308280Z",
     "shell.execute_reply.started": "2022-03-27T07:36:59.490861Z"
    },
    "papermill": {
     "duration": 6.611558,
     "end_time": "2022-03-27T07:51:30.309378",
     "exception": false,
     "start_time": "2022-03-27T07:51:23.697820",
     "status": "completed"
    },
    "tags": []
   },
   "outputs": [
    {
     "name": "stdout",
     "output_type": "stream",
     "text": [
      "Found 80800 images belonging to 101 classes.\n",
      "Found 20200 images belonging to 101 classes.\n"
     ]
    }
   ],
   "source": [
    "train_data = train_data_generator.flow_from_directory(\n",
    "    data_dir,\n",
    "    target_size = (img_width, img_height),\n",
    "    batch_size = batch_size,\n",
    "    class_mode = 'categorical',\n",
    "    subset = 'training')\n",
    "\n",
    "val_data = test_data_generator.flow_from_directory(\n",
    "    data_dir,\n",
    "    target_size = (img_width, img_height),\n",
    "    batch_size = batch_size,\n",
    "    class_mode='categorical',\n",
    "    subset = 'validation')"
   ]
  },
  {
   "cell_type": "markdown",
   "id": "a09321e9",
   "metadata": {
    "papermill": {
     "duration": 0.010219,
     "end_time": "2022-03-27T07:51:30.330633",
     "exception": false,
     "start_time": "2022-03-27T07:51:30.320414",
     "status": "completed"
    },
    "tags": []
   },
   "source": [
    "# InceptionV3"
   ]
  },
  {
   "cell_type": "code",
   "execution_count": 6,
   "id": "f660f389",
   "metadata": {
    "execution": {
     "iopub.execute_input": "2022-03-27T07:51:30.363057Z",
     "iopub.status.busy": "2022-03-27T07:51:30.362455Z",
     "iopub.status.idle": "2022-03-27T07:51:35.645615Z",
     "shell.execute_reply": "2022-03-27T07:51:35.645086Z",
     "shell.execute_reply.started": "2022-03-27T07:49:16.904619Z"
    },
    "papermill": {
     "duration": 5.304483,
     "end_time": "2022-03-27T07:51:35.645744",
     "exception": false,
     "start_time": "2022-03-27T07:51:30.341261",
     "status": "completed"
    },
    "tags": []
   },
   "outputs": [
    {
     "name": "stderr",
     "output_type": "stream",
     "text": [
      "2022-03-27 07:51:30.466059: I tensorflow/stream_executor/cuda/cuda_gpu_executor.cc:937] successful NUMA node read from SysFS had negative value (-1), but there must be at least one NUMA node, so returning NUMA node zero\n",
      "2022-03-27 07:51:30.580362: I tensorflow/stream_executor/cuda/cuda_gpu_executor.cc:937] successful NUMA node read from SysFS had negative value (-1), but there must be at least one NUMA node, so returning NUMA node zero\n",
      "2022-03-27 07:51:30.581524: I tensorflow/stream_executor/cuda/cuda_gpu_executor.cc:937] successful NUMA node read from SysFS had negative value (-1), but there must be at least one NUMA node, so returning NUMA node zero\n",
      "2022-03-27 07:51:30.583127: I tensorflow/core/platform/cpu_feature_guard.cc:142] This TensorFlow binary is optimized with oneAPI Deep Neural Network Library (oneDNN) to use the following CPU instructions in performance-critical operations:  AVX2 AVX512F FMA\n",
      "To enable them in other operations, rebuild TensorFlow with the appropriate compiler flags.\n",
      "2022-03-27 07:51:30.584028: I tensorflow/stream_executor/cuda/cuda_gpu_executor.cc:937] successful NUMA node read from SysFS had negative value (-1), but there must be at least one NUMA node, so returning NUMA node zero\n",
      "2022-03-27 07:51:30.585033: I tensorflow/stream_executor/cuda/cuda_gpu_executor.cc:937] successful NUMA node read from SysFS had negative value (-1), but there must be at least one NUMA node, so returning NUMA node zero\n",
      "2022-03-27 07:51:30.586002: I tensorflow/stream_executor/cuda/cuda_gpu_executor.cc:937] successful NUMA node read from SysFS had negative value (-1), but there must be at least one NUMA node, so returning NUMA node zero\n",
      "2022-03-27 07:51:32.587810: I tensorflow/stream_executor/cuda/cuda_gpu_executor.cc:937] successful NUMA node read from SysFS had negative value (-1), but there must be at least one NUMA node, so returning NUMA node zero\n",
      "2022-03-27 07:51:32.588567: I tensorflow/stream_executor/cuda/cuda_gpu_executor.cc:937] successful NUMA node read from SysFS had negative value (-1), but there must be at least one NUMA node, so returning NUMA node zero\n",
      "2022-03-27 07:51:32.589255: I tensorflow/stream_executor/cuda/cuda_gpu_executor.cc:937] successful NUMA node read from SysFS had negative value (-1), but there must be at least one NUMA node, so returning NUMA node zero\n",
      "2022-03-27 07:51:32.589846: I tensorflow/core/common_runtime/gpu/gpu_device.cc:1510] Created device /job:localhost/replica:0/task:0/device:GPU:0 with 15403 MB memory:  -> device: 0, name: Tesla P100-PCIE-16GB, pci bus id: 0000:00:04.0, compute capability: 6.0\n"
     ]
    },
    {
     "name": "stdout",
     "output_type": "stream",
     "text": [
      "Downloading data from https://storage.googleapis.com/tensorflow/keras-applications/inception_v3/inception_v3_weights_tf_dim_ordering_tf_kernels_notop.h5\n",
      "87916544/87910968 [==============================] - 1s 0us/step\n",
      "87924736/87910968 [==============================] - 1s 0us/step\n"
     ]
    }
   ],
   "source": [
    "InceptionV3 = tf.keras.applications.inception_v3.InceptionV3(\n",
    "    input_shape=(224, 224, 3),\n",
    "    include_top=False,\n",
    "    weights='imagenet',\n",
    "    classes=101)\n",
    "\n",
    "# for layer in InceptionV3.layers:\n",
    "#     layer.trainable = False\n",
    "\n",
    "x = InceptionV3.output\n",
    "x = layers.BatchNormalization()(x)\n",
    "x = layers.AveragePooling2D()(x)\n",
    "x = layers.Dropout(0.5)(x)\n",
    "x = layers.Flatten()(x)\n",
    "x = layers.Dropout(0.5)(x)\n",
    "x = layers.Dense(512, activation='relu')(x)\n",
    "x = layers.Dropout(0.5)(x)\n",
    "output = layers.Dense(101, activation='softmax')(x)\n",
    "model = models.Model(InceptionV3.input, output)\n",
    "\n",
    "model.compile(loss='categorical_crossentropy', \n",
    "              optimizer=tf.keras.optimizers.Adam(),\n",
    "              metrics=['accuracy'])"
   ]
  },
  {
   "cell_type": "code",
   "execution_count": 7,
   "id": "81e0a5bd",
   "metadata": {
    "execution": {
     "iopub.execute_input": "2022-03-27T07:51:35.686634Z",
     "iopub.status.busy": "2022-03-27T07:51:35.685640Z",
     "iopub.status.idle": "2022-03-27T13:58:30.945463Z",
     "shell.execute_reply": "2022-03-27T13:58:30.945957Z",
     "shell.execute_reply.started": "2022-03-27T07:49:18.765180Z"
    },
    "papermill": {
     "duration": 22015.283877,
     "end_time": "2022-03-27T13:58:30.946121",
     "exception": false,
     "start_time": "2022-03-27T07:51:35.662244",
     "status": "completed"
    },
    "tags": []
   },
   "outputs": [
    {
     "name": "stderr",
     "output_type": "stream",
     "text": [
      "2022-03-27 07:51:36.378650: I tensorflow/compiler/mlir/mlir_graph_optimization_pass.cc:185] None of the MLIR Optimization Passes are enabled (registered 2)\n"
     ]
    },
    {
     "name": "stdout",
     "output_type": "stream",
     "text": [
      "Epoch 1/15\n"
     ]
    },
    {
     "name": "stderr",
     "output_type": "stream",
     "text": [
      "2022-03-27 07:51:44.176743: I tensorflow/stream_executor/cuda/cuda_dnn.cc:369] Loaded cuDNN version 8005\n"
     ]
    },
    {
     "name": "stdout",
     "output_type": "stream",
     "text": [
      "2525/2525 [==============================] - 1712s 673ms/step - loss: 4.6318 - accuracy: 0.0089 - val_loss: 4.6152 - val_accuracy: 0.0099\n",
      "Epoch 2/15\n",
      "2525/2525 [==============================] - 1411s 559ms/step - loss: 4.6176 - accuracy: 0.0087 - val_loss: 4.6152 - val_accuracy: 0.0099\n",
      "Epoch 3/15\n",
      "2525/2525 [==============================] - 1433s 568ms/step - loss: 4.6158 - accuracy: 0.0096 - val_loss: 4.6152 - val_accuracy: 0.0099\n",
      "Epoch 4/15\n",
      "2525/2525 [==============================] - 1455s 576ms/step - loss: 4.6198 - accuracy: 0.0094 - val_loss: 4.6157 - val_accuracy: 0.0099\n",
      "Epoch 5/15\n",
      "2525/2525 [==============================] - 1456s 576ms/step - loss: 4.6159 - accuracy: 0.0093 - val_loss: 4.6153 - val_accuracy: 0.0099\n",
      "Epoch 6/15\n",
      "2525/2525 [==============================] - 1439s 570ms/step - loss: 4.6196 - accuracy: 0.0090 - val_loss: 4.6360 - val_accuracy: 0.0099\n",
      "Epoch 7/15\n",
      "2525/2525 [==============================] - 1438s 569ms/step - loss: 4.6159 - accuracy: 0.0091 - val_loss: 4.6213 - val_accuracy: 0.0099\n",
      "Epoch 8/15\n",
      "2525/2525 [==============================] - 1453s 575ms/step - loss: 4.6158 - accuracy: 0.0090 - val_loss: 4.6214 - val_accuracy: 0.0100\n",
      "Epoch 9/15\n",
      "2525/2525 [==============================] - 1441s 570ms/step - loss: 4.6159 - accuracy: 0.0090 - val_loss: 4.6299 - val_accuracy: 0.0099\n",
      "Epoch 10/15\n",
      "2525/2525 [==============================] - 1447s 573ms/step - loss: 4.6193 - accuracy: 0.0092 - val_loss: 4.6720 - val_accuracy: 0.0099\n",
      "Epoch 11/15\n",
      "2525/2525 [==============================] - 1414s 560ms/step - loss: 4.6158 - accuracy: 0.0090 - val_loss: 4.6213 - val_accuracy: 0.0099\n",
      "Epoch 12/15\n",
      "2525/2525 [==============================] - 1404s 556ms/step - loss: 4.6159 - accuracy: 0.0093 - val_loss: 4.6269 - val_accuracy: 0.0099\n",
      "Epoch 13/15\n",
      "2525/2525 [==============================] - 1429s 566ms/step - loss: 4.6158 - accuracy: 0.0088 - val_loss: 4.6361 - val_accuracy: 0.0099\n",
      "Epoch 14/15\n",
      "2525/2525 [==============================] - 1421s 563ms/step - loss: 4.6159 - accuracy: 0.0088 - val_loss: 4.6396 - val_accuracy: 0.0097\n",
      "Epoch 15/15\n",
      "2525/2525 [==============================] - 1401s 555ms/step - loss: 4.6158 - accuracy: 0.0087 - val_loss: 4.6505 - val_accuracy: 0.0099\n"
     ]
    }
   ],
   "source": [
    "epochs=15\n",
    "history = model.fit(\n",
    "  train_data,\n",
    "  validation_data=val_data,\n",
    "  epochs=epochs\n",
    ")"
   ]
  },
  {
   "cell_type": "code",
   "execution_count": 8,
   "id": "d8f0eca9",
   "metadata": {
    "execution": {
     "iopub.execute_input": "2022-03-27T13:58:56.213109Z",
     "iopub.status.busy": "2022-03-27T13:58:56.212346Z",
     "iopub.status.idle": "2022-03-27T13:58:56.495356Z",
     "shell.execute_reply": "2022-03-27T13:58:56.495758Z",
     "shell.execute_reply.started": "2022-03-27T07:37:11.590718Z"
    },
    "papermill": {
     "duration": 12.587495,
     "end_time": "2022-03-27T13:58:56.495979",
     "exception": false,
     "start_time": "2022-03-27T13:58:43.908484",
     "status": "completed"
    },
    "tags": []
   },
   "outputs": [
    {
     "data": {
      "image/png": "[encoded data removed]",
      "text/plain": [
       "<Figure size 576x576 with 2 Axes>"
      ]
     },
     "metadata": {
      "needs_background": "light"
     },
     "output_type": "display_data"
    }
   ],
   "source": [
    "acc = history.history['accuracy']\n",
    "val_acc = history.history['val_accuracy']\n",
    "\n",
    "loss = history.history['loss']\n",
    "val_loss = history.history['val_loss']\n",
    "\n",
    "epochs_range = range(epochs)\n",
    "\n",
    "plt.figure(figsize=(8, 8))\n",
    "plt.subplot(1, 2, 1)\n",
    "plt.plot(epochs_range, acc, label='Training Accuracy')\n",
    "plt.plot(epochs_range, val_acc, label='Validation Accuracy')\n",
    "plt.legend(loc='lower right')\n",
    "plt.title('Training and Validation Accuracy')\n",
    "\n",
    "plt.subplot(1, 2, 2)\n",
    "plt.plot(epochs_range, loss, label='Training Loss')\n",
    "plt.plot(epochs_range, val_loss, label='Validation Loss')\n",
    "plt.legend(loc='upper right')\n",
    "plt.title('Training and Validation Loss')\n",
    "plt.show()"
   ]
  },
  {
   "cell_type": "code",
   "execution_count": 9,
   "id": "632054c9",
   "metadata": {
    "execution": {
     "iopub.execute_input": "2022-03-27T13:59:21.021852Z",
     "iopub.status.busy": "2022-03-27T13:59:21.020999Z",
     "iopub.status.idle": "2022-03-27T14:00:01.620940Z",
     "shell.execute_reply": "2022-03-27T14:00:01.618809Z",
     "shell.execute_reply.started": "2022-03-27T07:37:11.592813Z"
    },
    "papermill": {
     "duration": 53.074747,
     "end_time": "2022-03-27T14:00:01.621085",
     "exception": false,
     "start_time": "2022-03-27T13:59:08.546338",
     "status": "completed"
    },
    "tags": []
   },
   "outputs": [
    {
     "name": "stderr",
     "output_type": "stream",
     "text": [
      "2022-03-27 13:59:35.203185: W tensorflow/python/util/util.cc:348] Sets are not currently considered sequences, but this may change in the future, so consider avoiding using them.\n"
     ]
    }
   ],
   "source": [
    "model.save('/kaggle/working/model')"
   ]
  }
 ],
 "metadata": {
  "kernelspec": {
   "display_name": "Python 3",
   "language": "python",
   "name": "python3"
  },
  "language_info": {
   "codemirror_mode": {
    "name": "ipython",
    "version": 3
   },
   "file_extension": ".py",
   "mimetype": "text/x-python",
   "name": "python",
   "nbconvert_exporter": "python",
   "pygments_lexer": "ipython3",
   "version": "3.7.12"
  },
  "papermill": {
   "default_parameters": {},
   "duration": 22146.656628,
   "end_time": "2022-03-27T14:00:16.579720",
   "environment_variables": {},
   "exception": null,
   "input_path": "__notebook__.ipynb",
   "output_path": "__notebook__.ipynb",
   "parameters": {},
   "start_time": "2022-03-27T07:51:09.923092",
   "version": "2.3.3"
  }
 },
 "nbformat": 4,
 "nbformat_minor": 5
}
