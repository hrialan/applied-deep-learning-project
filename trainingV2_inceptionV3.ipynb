{
 "cells": [
  {
   "cell_type": "code",
   "execution_count": 1,
   "id": "d8ea8805",
   "metadata": {
    "_cell_guid": "c578812c-846f-4718-a658-f73ae85080f9",
    "_uuid": "8d267231-749b-44e8-be04-11969e9a385a",
    "collapsed": false,
    "execution": {
     "iopub.execute_input": "2022-03-27T07:49:24.967653Z",
     "iopub.status.busy": "2022-03-27T07:49:24.966074Z",
     "iopub.status.idle": "2022-03-27T07:49:29.869423Z",
     "shell.execute_reply": "2022-03-27T07:49:29.868783Z",
     "shell.execute_reply.started": "2022-03-27T07:36:53.944296Z"
    },
    "jupyter": {
     "outputs_hidden": false
    },
    "papermill": {
     "duration": 4.923232,
     "end_time": "2022-03-27T07:49:29.869612",
     "exception": false,
     "start_time": "2022-03-27T07:49:24.946380",
     "status": "completed"
    },
    "tags": []
   },
   "outputs": [],
   "source": [
    "import os\n",
    "import numpy as np\n",
    "import pandas as pd\n",
    "import matplotlib.pyplot as plt\n",
    "\n",
    "import tensorflow as tf\n",
    "\n",
    "from tensorflow import keras\n",
    "from tensorflow.keras import layers\n",
    "from tensorflow.keras import models\n",
    "from tensorflow.keras.models import Sequential\n",
    "from tensorflow.keras.preprocessing.image import ImageDataGenerator"
   ]
  },
  {
   "cell_type": "code",
   "execution_count": 2,
   "id": "9b04caf5",
   "metadata": {
    "execution": {
     "iopub.execute_input": "2022-03-27T07:49:29.899997Z",
     "iopub.status.busy": "2022-03-27T07:49:29.899046Z",
     "iopub.status.idle": "2022-03-27T07:49:29.902592Z",
     "shell.execute_reply": "2022-03-27T07:49:29.903142Z",
     "shell.execute_reply.started": "2022-03-27T07:36:59.456680Z"
    },
    "papermill": {
     "duration": 0.021096,
     "end_time": "2022-03-27T07:49:29.903273",
     "exception": false,
     "start_time": "2022-03-27T07:49:29.882177",
     "status": "completed"
    },
    "tags": []
   },
   "outputs": [
    {
     "name": "stdout",
     "output_type": "stream",
     "text": [
      "Kaggle environment detected\n"
     ]
    }
   ],
   "source": [
    "running_on_kaggle = os.environ.get('KAGGLE_KERNEL_RUN_TYPE', 'Localhost') != 'Localhost'\n",
    "\n",
    "if running_on_kaggle:\n",
    "    print('Kaggle environment detected')\n",
    "    # !nvidia-smi\n",
    "    data_dir = '/kaggle/input/food41/images/'\n",
    "else:\n",
    "    print('Running on localhost')\n",
    "    data_dir = './dataset/food/images/'\n",
    "    !pip install --quiet -r requirements.txt\n",
    "    !python download_data.py"
   ]
  },
  {
   "cell_type": "code",
   "execution_count": 3,
   "id": "fc1dfc6f",
   "metadata": {
    "execution": {
     "iopub.execute_input": "2022-03-27T07:49:29.928957Z",
     "iopub.status.busy": "2022-03-27T07:49:29.928101Z",
     "iopub.status.idle": "2022-03-27T07:49:29.930706Z",
     "shell.execute_reply": "2022-03-27T07:49:29.930239Z",
     "shell.execute_reply.started": "2022-03-27T07:36:59.469916Z"
    },
    "papermill": {
     "duration": 0.016661,
     "end_time": "2022-03-27T07:49:29.930828",
     "exception": false,
     "start_time": "2022-03-27T07:49:29.914167",
     "status": "completed"
    },
    "tags": []
   },
   "outputs": [],
   "source": [
    "batch_size = 32\n",
    "\n",
    "img_height = 224\n",
    "img_width = 224"
   ]
  },
  {
   "cell_type": "code",
   "execution_count": 4,
   "id": "b8415153",
   "metadata": {
    "execution": {
     "iopub.execute_input": "2022-03-27T07:49:29.957670Z",
     "iopub.status.busy": "2022-03-27T07:49:29.956775Z",
     "iopub.status.idle": "2022-03-27T07:49:29.958904Z",
     "shell.execute_reply": "2022-03-27T07:49:29.959360Z",
     "shell.execute_reply.started": "2022-03-27T07:36:59.483020Z"
    },
    "papermill": {
     "duration": 0.018226,
     "end_time": "2022-03-27T07:49:29.959486",
     "exception": false,
     "start_time": "2022-03-27T07:49:29.941260",
     "status": "completed"
    },
    "tags": []
   },
   "outputs": [],
   "source": [
    "train_data_generator = ImageDataGenerator(\n",
    "    rescale = 1./255,\n",
    "    rotation_range=40,\n",
    "    width_shift_range=0.2,\n",
    "    height_shift_range=0.2,\n",
    "    shear_range=0.2,\n",
    "    zoom_range=0.2,\n",
    "    horizontal_flip=True,\n",
    "    fill_mode='nearest',\n",
    "    validation_split = 0.2)\n",
    "\n",
    "test_data_generator = ImageDataGenerator(\n",
    "    rescale = 1./255,\n",
    "    validation_split = 0.2)"
   ]
  },
  {
   "cell_type": "code",
   "execution_count": 5,
   "id": "1325fdb1",
   "metadata": {
    "execution": {
     "iopub.execute_input": "2022-03-27T07:49:29.987261Z",
     "iopub.status.busy": "2022-03-27T07:49:29.985561Z",
     "iopub.status.idle": "2022-03-27T07:49:39.968337Z",
     "shell.execute_reply": "2022-03-27T07:49:39.968815Z",
     "shell.execute_reply.started": "2022-03-27T07:36:59.490861Z"
    },
    "papermill": {
     "duration": 9.998932,
     "end_time": "2022-03-27T07:49:39.968990",
     "exception": false,
     "start_time": "2022-03-27T07:49:29.970058",
     "status": "completed"
    },
    "tags": []
   },
   "outputs": [
    {
     "name": "stdout",
     "output_type": "stream",
     "text": [
      "Found 80800 images belonging to 101 classes.\n",
      "Found 20200 images belonging to 101 classes.\n"
     ]
    }
   ],
   "source": [
    "train_data = train_data_generator.flow_from_directory(\n",
    "    data_dir,\n",
    "    target_size = (img_width, img_height),\n",
    "    batch_size = batch_size,\n",
    "    class_mode = 'categorical',\n",
    "    subset = 'training')\n",
    "\n",
    "val_data = test_data_generator.flow_from_directory(\n",
    "    data_dir,\n",
    "    target_size = (img_width, img_height),\n",
    "    batch_size = batch_size,\n",
    "    class_mode='categorical',\n",
    "    subset = 'validation')"
   ]
  },
  {
   "cell_type": "markdown",
   "id": "d5e3c026",
   "metadata": {
    "papermill": {
     "duration": 0.010454,
     "end_time": "2022-03-27T07:49:39.990197",
     "exception": false,
     "start_time": "2022-03-27T07:49:39.979743",
     "status": "completed"
    },
    "tags": []
   },
   "source": [
    "# InceptionV3"
   ]
  },
  {
   "cell_type": "code",
   "execution_count": 6,
   "id": "5bd3abd3",
   "metadata": {
    "execution": {
     "iopub.execute_input": "2022-03-27T07:49:40.021450Z",
     "iopub.status.busy": "2022-03-27T07:49:40.020882Z",
     "iopub.status.idle": "2022-03-27T07:49:44.880037Z",
     "shell.execute_reply": "2022-03-27T07:49:44.879502Z",
     "shell.execute_reply.started": "2022-03-27T07:44:40.794710Z"
    },
    "papermill": {
     "duration": 4.879619,
     "end_time": "2022-03-27T07:49:44.880174",
     "exception": false,
     "start_time": "2022-03-27T07:49:40.000555",
     "status": "completed"
    },
    "tags": []
   },
   "outputs": [
    {
     "name": "stderr",
     "output_type": "stream",
     "text": [
      "2022-03-27 07:49:40.117202: I tensorflow/stream_executor/cuda/cuda_gpu_executor.cc:937] successful NUMA node read from SysFS had negative value (-1), but there must be at least one NUMA node, so returning NUMA node zero\n",
      "2022-03-27 07:49:40.238682: I tensorflow/stream_executor/cuda/cuda_gpu_executor.cc:937] successful NUMA node read from SysFS had negative value (-1), but there must be at least one NUMA node, so returning NUMA node zero\n",
      "2022-03-27 07:49:40.239395: I tensorflow/stream_executor/cuda/cuda_gpu_executor.cc:937] successful NUMA node read from SysFS had negative value (-1), but there must be at least one NUMA node, so returning NUMA node zero\n",
      "2022-03-27 07:49:40.240535: I tensorflow/core/platform/cpu_feature_guard.cc:142] This TensorFlow binary is optimized with oneAPI Deep Neural Network Library (oneDNN) to use the following CPU instructions in performance-critical operations:  AVX2 AVX512F FMA\n",
      "To enable them in other operations, rebuild TensorFlow with the appropriate compiler flags.\n",
      "2022-03-27 07:49:40.241618: I tensorflow/stream_executor/cuda/cuda_gpu_executor.cc:937] successful NUMA node read from SysFS had negative value (-1), but there must be at least one NUMA node, so returning NUMA node zero\n",
      "2022-03-27 07:49:40.242272: I tensorflow/stream_executor/cuda/cuda_gpu_executor.cc:937] successful NUMA node read from SysFS had negative value (-1), but there must be at least one NUMA node, so returning NUMA node zero\n",
      "2022-03-27 07:49:40.242871: I tensorflow/stream_executor/cuda/cuda_gpu_executor.cc:937] successful NUMA node read from SysFS had negative value (-1), but there must be at least one NUMA node, so returning NUMA node zero\n",
      "2022-03-27 07:49:42.100355: I tensorflow/stream_executor/cuda/cuda_gpu_executor.cc:937] successful NUMA node read from SysFS had negative value (-1), but there must be at least one NUMA node, so returning NUMA node zero\n",
      "2022-03-27 07:49:42.101178: I tensorflow/stream_executor/cuda/cuda_gpu_executor.cc:937] successful NUMA node read from SysFS had negative value (-1), but there must be at least one NUMA node, so returning NUMA node zero\n",
      "2022-03-27 07:49:42.101842: I tensorflow/stream_executor/cuda/cuda_gpu_executor.cc:937] successful NUMA node read from SysFS had negative value (-1), but there must be at least one NUMA node, so returning NUMA node zero\n",
      "2022-03-27 07:49:42.102427: I tensorflow/core/common_runtime/gpu/gpu_device.cc:1510] Created device /job:localhost/replica:0/task:0/device:GPU:0 with 15403 MB memory:  -> device: 0, name: Tesla P100-PCIE-16GB, pci bus id: 0000:00:04.0, compute capability: 6.0\n"
     ]
    },
    {
     "name": "stdout",
     "output_type": "stream",
     "text": [
      "Downloading data from https://storage.googleapis.com/tensorflow/keras-applications/inception_v3/inception_v3_weights_tf_dim_ordering_tf_kernels_notop.h5\n",
      "87916544/87910968 [==============================] - 0s 0us/step\n",
      "87924736/87910968 [==============================] - 0s 0us/step\n"
     ]
    }
   ],
   "source": [
    "InceptionV3 = tf.keras.applications.inception_v3.InceptionV3(\n",
    "    input_shape=(224, 224, 3),\n",
    "    include_top=False,\n",
    "    weights='imagenet',\n",
    "    classes=101)\n",
    "\n",
    "# for layer in InceptionV3.layers:\n",
    "#     layer.trainable = False\n",
    "\n",
    "x = InceptionV3.output\n",
    "x = layers.BatchNormalization()(x)\n",
    "x = layers.AveragePooling2D()(x)\n",
    "x = layers.Dropout(0.5)(x)\n",
    "x = layers.Flatten()(x)\n",
    "x = layers.Dropout(0.5)(x)\n",
    "x = layers.Dense(512, activation='relu')(x)\n",
    "x = layers.Dropout(0.5)(x)\n",
    "output = layers.Dense(101, activation='softmax')(x)\n",
    "model = models.Model(InceptionV3.input, output)\n",
    "\n",
    "model.compile(loss='categorical_crossentropy', \n",
    "              optimizer=tf.keras.optimizers.SGD(),\n",
    "              metrics=['accuracy'])"
   ]
  },
  {
   "cell_type": "code",
   "execution_count": 7,
   "id": "afef6762",
   "metadata": {
    "execution": {
     "iopub.execute_input": "2022-03-27T07:49:44.915715Z",
     "iopub.status.busy": "2022-03-27T07:49:44.915135Z",
     "iopub.status.idle": "2022-03-27T13:53:52.351553Z",
     "shell.execute_reply": "2022-03-27T13:53:52.352266Z",
     "shell.execute_reply.started": "2022-03-27T07:44:48.891321Z"
    },
    "papermill": {
     "duration": 21847.457457,
     "end_time": "2022-03-27T13:53:52.352483",
     "exception": false,
     "start_time": "2022-03-27T07:49:44.895026",
     "status": "completed"
    },
    "tags": []
   },
   "outputs": [
    {
     "name": "stderr",
     "output_type": "stream",
     "text": [
      "2022-03-27 07:49:45.545159: I tensorflow/compiler/mlir/mlir_graph_optimization_pass.cc:185] None of the MLIR Optimization Passes are enabled (registered 2)\n"
     ]
    },
    {
     "name": "stdout",
     "output_type": "stream",
     "text": [
      "Epoch 1/15\n"
     ]
    },
    {
     "name": "stderr",
     "output_type": "stream",
     "text": [
      "2022-03-27 07:49:51.978501: I tensorflow/stream_executor/cuda/cuda_dnn.cc:369] Loaded cuDNN version 8005\n"
     ]
    },
    {
     "name": "stdout",
     "output_type": "stream",
     "text": [
      "2525/2525 [==============================] - 1736s 683ms/step - loss: 4.4439 - accuracy: 0.0405 - val_loss: 3.5355 - val_accuracy: 0.1871\n",
      "Epoch 2/15\n",
      "2525/2525 [==============================] - 1409s 558ms/step - loss: 3.2081 - accuracy: 0.2353 - val_loss: 2.2587 - val_accuracy: 0.4444\n",
      "Epoch 3/15\n",
      "2525/2525 [==============================] - 1425s 564ms/step - loss: 2.3620 - accuracy: 0.4119 - val_loss: 1.8404 - val_accuracy: 0.5342\n",
      "Epoch 4/15\n",
      "2525/2525 [==============================] - 1436s 568ms/step - loss: 1.9498 - accuracy: 0.5092 - val_loss: 1.5815 - val_accuracy: 0.5966\n",
      "Epoch 5/15\n",
      "2525/2525 [==============================] - 1437s 569ms/step - loss: 1.7200 - accuracy: 0.5661 - val_loss: 1.3683 - val_accuracy: 0.6513\n",
      "Epoch 6/15\n",
      "2525/2525 [==============================] - 1403s 555ms/step - loss: 1.5603 - accuracy: 0.6075 - val_loss: 1.3680 - val_accuracy: 0.6531\n",
      "Epoch 7/15\n",
      "2525/2525 [==============================] - 1416s 561ms/step - loss: 1.4453 - accuracy: 0.6329 - val_loss: 1.2477 - val_accuracy: 0.6870\n",
      "Epoch 8/15\n",
      "2525/2525 [==============================] - 1438s 570ms/step - loss: 1.3402 - accuracy: 0.6578 - val_loss: 1.1692 - val_accuracy: 0.7016\n",
      "Epoch 9/15\n",
      "2525/2525 [==============================] - 1441s 571ms/step - loss: 1.2659 - accuracy: 0.6782 - val_loss: 1.2281 - val_accuracy: 0.6892\n",
      "Epoch 10/15\n",
      "2525/2525 [==============================] - 1447s 573ms/step - loss: 1.1964 - accuracy: 0.6938 - val_loss: 1.1788 - val_accuracy: 0.7022\n",
      "Epoch 11/15\n",
      "2525/2525 [==============================] - 1426s 565ms/step - loss: 1.1429 - accuracy: 0.7079 - val_loss: 1.1633 - val_accuracy: 0.7106\n",
      "Epoch 12/15\n",
      "2525/2525 [==============================] - 1394s 552ms/step - loss: 1.0935 - accuracy: 0.7202 - val_loss: 1.0727 - val_accuracy: 0.7298\n",
      "Epoch 13/15\n",
      "2525/2525 [==============================] - 1406s 557ms/step - loss: 1.0412 - accuracy: 0.7309 - val_loss: 1.0872 - val_accuracy: 0.7253\n",
      "Epoch 14/15\n",
      "2525/2525 [==============================] - 1395s 552ms/step - loss: 0.9941 - accuracy: 0.7417 - val_loss: 1.0717 - val_accuracy: 0.7354\n",
      "Epoch 15/15\n",
      "2525/2525 [==============================] - 1417s 561ms/step - loss: 0.9580 - accuracy: 0.7505 - val_loss: 1.0919 - val_accuracy: 0.7313\n"
     ]
    }
   ],
   "source": [
    "epochs=15\n",
    "history = model.fit(\n",
    "  train_data,\n",
    "  validation_data=val_data,\n",
    "  epochs=epochs\n",
    ")"
   ]
  },
  {
   "cell_type": "code",
   "execution_count": 8,
   "id": "2161f66b",
   "metadata": {
    "execution": {
     "iopub.execute_input": "2022-03-27T13:54:17.296825Z",
     "iopub.status.busy": "2022-03-27T13:54:17.293477Z",
     "iopub.status.idle": "2022-03-27T13:54:17.583444Z",
     "shell.execute_reply": "2022-03-27T13:54:17.583898Z",
     "shell.execute_reply.started": "2022-03-27T07:37:11.590718Z"
    },
    "papermill": {
     "duration": 13.172669,
     "end_time": "2022-03-27T13:54:17.584050",
     "exception": false,
     "start_time": "2022-03-27T13:54:04.411381",
     "status": "completed"
    },
    "tags": []
   },
   "outputs": [
    {
     "data": {
      "image/png": "[encoded data removed]",
      "text/plain": [
       "<Figure size 576x576 with 2 Axes>"
      ]
     },
     "metadata": {
      "needs_background": "light"
     },
     "output_type": "display_data"
    }
   ],
   "source": [
    "acc = history.history['accuracy']\n",
    "val_acc = history.history['val_accuracy']\n",
    "\n",
    "loss = history.history['loss']\n",
    "val_loss = history.history['val_loss']\n",
    "\n",
    "epochs_range = range(epochs)\n",
    "\n",
    "plt.figure(figsize=(8, 8))\n",
    "plt.subplot(1, 2, 1)\n",
    "plt.plot(epochs_range, acc, label='Training Accuracy')\n",
    "plt.plot(epochs_range, val_acc, label='Validation Accuracy')\n",
    "plt.legend(loc='lower right')\n",
    "plt.title('Training and Validation Accuracy')\n",
    "\n",
    "plt.subplot(1, 2, 2)\n",
    "plt.plot(epochs_range, loss, label='Training Loss')\n",
    "plt.plot(epochs_range, val_loss, label='Validation Loss')\n",
    "plt.legend(loc='upper right')\n",
    "plt.title('Training and Validation Loss')\n",
    "plt.show()"
   ]
  },
  {
   "cell_type": "code",
   "execution_count": 9,
   "id": "a024b991",
   "metadata": {
    "execution": {
     "iopub.execute_input": "2022-03-27T13:54:42.473807Z",
     "iopub.status.busy": "2022-03-27T13:54:42.473040Z",
     "iopub.status.idle": "2022-03-27T13:55:21.259758Z",
     "shell.execute_reply": "2022-03-27T13:55:21.258999Z",
     "shell.execute_reply.started": "2022-03-27T07:37:11.592813Z"
    },
    "papermill": {
     "duration": 51.591216,
     "end_time": "2022-03-27T13:55:21.259942",
     "exception": false,
     "start_time": "2022-03-27T13:54:29.668726",
     "status": "completed"
    },
    "tags": []
   },
   "outputs": [
    {
     "name": "stderr",
     "output_type": "stream",
     "text": [
      "2022-03-27 13:54:56.878014: W tensorflow/python/util/util.cc:348] Sets are not currently considered sequences, but this may change in the future, so consider avoiding using them.\n"
     ]
    }
   ],
   "source": [
    "model.save('/kaggle/working/model')"
   ]
  }
 ],
 "metadata": {
  "kernelspec": {
   "display_name": "Python 3",
   "language": "python",
   "name": "python3"
  },
  "language_info": {
   "codemirror_mode": {
    "name": "ipython",
    "version": 3
   },
   "file_extension": ".py",
   "mimetype": "text/x-python",
   "name": "python",
   "nbconvert_exporter": "python",
   "pygments_lexer": "ipython3",
   "version": "3.7.12"
  },
  "papermill": {
   "default_parameters": {},
   "duration": 21980.131104,
   "end_time": "2022-03-27T13:55:36.907026",
   "environment_variables": {},
   "exception": null,
   "input_path": "__notebook__.ipynb",
   "output_path": "__notebook__.ipynb",
   "parameters": {},
   "start_time": "2022-03-27T07:49:16.775922",
   "version": "2.3.3"
  }
 },
 "nbformat": 4,
 "nbformat_minor": 5
}
