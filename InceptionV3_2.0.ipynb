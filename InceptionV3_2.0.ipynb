{
 "cells": [
  {
   "cell_type": "code",
   "execution_count": 1,
   "id": "8867af6d",
   "metadata": {
    "_cell_guid": "c578812c-846f-4718-a658-f73ae85080f9",
    "_uuid": "8d267231-749b-44e8-be04-11969e9a385a",
    "collapsed": false,
    "execution": {
     "iopub.execute_input": "2022-03-13T08:19:02.047986Z",
     "iopub.status.busy": "2022-03-13T08:19:02.040107Z",
     "iopub.status.idle": "2022-03-13T08:19:06.825951Z",
     "shell.execute_reply": "2022-03-13T08:19:06.825230Z",
     "shell.execute_reply.started": "2022-03-13T08:15:58.282100Z"
    },
    "jupyter": {
     "outputs_hidden": false
    },
    "papermill": {
     "duration": 4.808215,
     "end_time": "2022-03-13T08:19:06.826106",
     "exception": false,
     "start_time": "2022-03-13T08:19:02.017891",
     "status": "completed"
    },
    "tags": []
   },
   "outputs": [],
   "source": [
    "import os\n",
    "import numpy as np\n",
    "import pandas as pd\n",
    "import matplotlib.pyplot as plt\n",
    "\n",
    "import tensorflow as tf\n",
    "\n",
    "from tensorflow import keras\n",
    "from tensorflow.keras import layers\n",
    "from tensorflow.keras import models\n",
    "from tensorflow.keras.models import Sequential\n",
    "from tensorflow.keras.preprocessing.image import ImageDataGenerator"
   ]
  },
  {
   "cell_type": "code",
   "execution_count": 2,
   "id": "3684bdbe",
   "metadata": {
    "execution": {
     "iopub.execute_input": "2022-03-13T08:19:06.866613Z",
     "iopub.status.busy": "2022-03-13T08:19:06.865718Z",
     "iopub.status.idle": "2022-03-13T08:19:06.869271Z",
     "shell.execute_reply": "2022-03-13T08:19:06.869794Z",
     "shell.execute_reply.started": "2022-03-13T08:16:03.449680Z"
    },
    "papermill": {
     "duration": 0.025059,
     "end_time": "2022-03-13T08:19:06.869924",
     "exception": false,
     "start_time": "2022-03-13T08:19:06.844865",
     "status": "completed"
    },
    "tags": []
   },
   "outputs": [
    {
     "name": "stdout",
     "output_type": "stream",
     "text": [
      "Kaggle environment detected\n"
     ]
    }
   ],
   "source": [
    "running_on_kaggle = os.environ.get('KAGGLE_KERNEL_RUN_TYPE', 'Localhost') != 'Localhost'\n",
    "\n",
    "if running_on_kaggle:\n",
    "    print('Kaggle environment detected')\n",
    "    # !nvidia-smi\n",
    "    data_dir = '/kaggle/input/food41/images/'\n",
    "else:\n",
    "    print('Running on localhost')\n",
    "    data_dir = './dataset/food/images/'\n",
    "    !pip install --quiet -r requirements.txt\n",
    "    !python download_data.py"
   ]
  },
  {
   "cell_type": "code",
   "execution_count": 3,
   "id": "1c76cc46",
   "metadata": {
    "execution": {
     "iopub.execute_input": "2022-03-13T08:19:06.905535Z",
     "iopub.status.busy": "2022-03-13T08:19:06.903990Z",
     "iopub.status.idle": "2022-03-13T08:19:06.906116Z",
     "shell.execute_reply": "2022-03-13T08:19:06.906520Z",
     "shell.execute_reply.started": "2022-03-13T08:16:03.465090Z"
    },
    "papermill": {
     "duration": 0.021176,
     "end_time": "2022-03-13T08:19:06.906632",
     "exception": false,
     "start_time": "2022-03-13T08:19:06.885456",
     "status": "completed"
    },
    "tags": []
   },
   "outputs": [],
   "source": [
    "batch_size = 32\n",
    "\n",
    "img_height = 224\n",
    "img_width = 224"
   ]
  },
  {
   "cell_type": "code",
   "execution_count": 4,
   "id": "e6945698",
   "metadata": {
    "execution": {
     "iopub.execute_input": "2022-03-13T08:19:06.941650Z",
     "iopub.status.busy": "2022-03-13T08:19:06.940909Z",
     "iopub.status.idle": "2022-03-13T08:19:06.943459Z",
     "shell.execute_reply": "2022-03-13T08:19:06.943042Z",
     "shell.execute_reply.started": "2022-03-13T08:16:03.475517Z"
    },
    "papermill": {
     "duration": 0.02203,
     "end_time": "2022-03-13T08:19:06.943564",
     "exception": false,
     "start_time": "2022-03-13T08:19:06.921534",
     "status": "completed"
    },
    "tags": []
   },
   "outputs": [],
   "source": [
    "train_data_generator = ImageDataGenerator(\n",
    "    rescale = 1./255,\n",
    "    rotation_range=40,\n",
    "    width_shift_range=0.2,\n",
    "    height_shift_range=0.2,\n",
    "    shear_range=0.2,\n",
    "    zoom_range=0.2,\n",
    "    horizontal_flip=True,\n",
    "    fill_mode='nearest',\n",
    "    validation_split = 0.2)\n",
    "\n",
    "test_data_generator = ImageDataGenerator(\n",
    "    rescale = 1./255,\n",
    "    validation_split = 0.2)"
   ]
  },
  {
   "cell_type": "code",
   "execution_count": 5,
   "id": "c670b325",
   "metadata": {
    "execution": {
     "iopub.execute_input": "2022-03-13T08:19:06.978575Z",
     "iopub.status.busy": "2022-03-13T08:19:06.977984Z",
     "iopub.status.idle": "2022-03-13T08:19:14.694360Z",
     "shell.execute_reply": "2022-03-13T08:19:14.695357Z",
     "shell.execute_reply.started": "2022-03-13T08:16:03.484981Z"
    },
    "papermill": {
     "duration": 7.737195,
     "end_time": "2022-03-13T08:19:14.696131",
     "exception": false,
     "start_time": "2022-03-13T08:19:06.958936",
     "status": "completed"
    },
    "tags": []
   },
   "outputs": [
    {
     "name": "stdout",
     "output_type": "stream",
     "text": [
      "Found 80800 images belonging to 101 classes.\n",
      "Found 20200 images belonging to 101 classes.\n"
     ]
    }
   ],
   "source": [
    "train_data = train_data_generator.flow_from_directory(\n",
    "    data_dir,\n",
    "    target_size = (img_width, img_height),\n",
    "    batch_size = batch_size,\n",
    "    class_mode = 'categorical',\n",
    "    subset = 'training')\n",
    "\n",
    "val_data = test_data_generator.flow_from_directory(\n",
    "    data_dir,\n",
    "    target_size = (img_width, img_height),\n",
    "    batch_size = batch_size,\n",
    "    class_mode='categorical',\n",
    "    subset = 'validation')"
   ]
  },
  {
   "cell_type": "markdown",
   "id": "472b7d63",
   "metadata": {
    "papermill": {
     "duration": 0.015994,
     "end_time": "2022-03-13T08:19:14.732003",
     "exception": false,
     "start_time": "2022-03-13T08:19:14.716009",
     "status": "completed"
    },
    "tags": []
   },
   "source": [
    "# ResNet50V2"
   ]
  },
  {
   "cell_type": "code",
   "execution_count": 6,
   "id": "bdcf4f82",
   "metadata": {
    "execution": {
     "iopub.execute_input": "2022-03-13T08:19:14.770162Z",
     "iopub.status.busy": "2022-03-13T08:19:14.769529Z",
     "iopub.status.idle": "2022-03-13T08:19:14.772581Z",
     "shell.execute_reply": "2022-03-13T08:19:14.773010Z",
     "shell.execute_reply.started": "2022-03-13T08:16:25.626618Z"
    },
    "papermill": {
     "duration": 0.025487,
     "end_time": "2022-03-13T08:19:14.773138",
     "exception": false,
     "start_time": "2022-03-13T08:19:14.747651",
     "status": "completed"
    },
    "tags": []
   },
   "outputs": [
    {
     "data": {
      "text/plain": [
       "\"\\nResNet50V2 = tf.keras.applications.resnet_v2.ResNet50V2(\\n    input_shape=(224, 224, 3),\\n    include_top=False,\\n    weights='imagenet',\\n    pooling='avg',\\n    classes=101\\n)\\n\\nfor layer in ResNet50V2.layers:\\n    layer.trainable = False\\n\""
      ]
     },
     "execution_count": 6,
     "metadata": {},
     "output_type": "execute_result"
    }
   ],
   "source": [
    "\"\"\"\n",
    "ResNet50V2 = tf.keras.applications.resnet_v2.ResNet50V2(\n",
    "    input_shape=(224, 224, 3),\n",
    "    include_top=False,\n",
    "    weights='imagenet',\n",
    "    pooling='avg',\n",
    "    classes=101\n",
    ")\n",
    "\n",
    "for layer in ResNet50V2.layers:\n",
    "    layer.trainable = False\n",
    "\"\"\""
   ]
  },
  {
   "cell_type": "code",
   "execution_count": 7,
   "id": "b7eb5941",
   "metadata": {
    "execution": {
     "iopub.execute_input": "2022-03-13T08:19:14.809498Z",
     "iopub.status.busy": "2022-03-13T08:19:14.808892Z",
     "iopub.status.idle": "2022-03-13T08:19:14.811470Z",
     "shell.execute_reply": "2022-03-13T08:19:14.811900Z",
     "shell.execute_reply.started": "2022-03-13T08:16:25.645564Z"
    },
    "papermill": {
     "duration": 0.023026,
     "end_time": "2022-03-13T08:19:14.812020",
     "exception": false,
     "start_time": "2022-03-13T08:19:14.788994",
     "status": "completed"
    },
    "tags": []
   },
   "outputs": [
    {
     "data": {
      "text/plain": [
       "\"\\nmodel_ResNet = tf.keras.Sequential([\\n    ResNet50V2,\\n    tf.keras.layers.Flatten(),\\n    tf.keras.layers.Dense(101, activation = 'softmax')\\n    ])\\n\\nmodel_ResNet.compile(\\n    loss='categorical_crossentropy', \\n    optimizer=tf.keras.optimizers.Adam(lr=.0001), \\n    metrics=['accuracy'])\\n\""
      ]
     },
     "execution_count": 7,
     "metadata": {},
     "output_type": "execute_result"
    }
   ],
   "source": [
    "\"\"\"\n",
    "model_ResNet = tf.keras.Sequential([\n",
    "    ResNet50V2,\n",
    "    tf.keras.layers.Flatten(),\n",
    "    tf.keras.layers.Dense(101, activation = 'softmax')\n",
    "    ])\n",
    "\n",
    "model_ResNet.compile(\n",
    "    loss='categorical_crossentropy', \n",
    "    optimizer=tf.keras.optimizers.Adam(lr=.0001), \n",
    "    metrics=['accuracy'])\n",
    "\"\"\""
   ]
  },
  {
   "cell_type": "code",
   "execution_count": 8,
   "id": "b9841f71",
   "metadata": {
    "execution": {
     "iopub.execute_input": "2022-03-13T08:19:14.847353Z",
     "iopub.status.busy": "2022-03-13T08:19:14.846575Z",
     "iopub.status.idle": "2022-03-13T08:19:14.851934Z",
     "shell.execute_reply": "2022-03-13T08:19:14.851478Z",
     "shell.execute_reply.started": "2022-03-13T08:16:25.661280Z"
    },
    "papermill": {
     "duration": 0.023709,
     "end_time": "2022-03-13T08:19:14.852040",
     "exception": false,
     "start_time": "2022-03-13T08:19:14.828331",
     "status": "completed"
    },
    "tags": []
   },
   "outputs": [
    {
     "data": {
      "text/plain": [
       "'\\nepochs=10\\nhistory = model_ResNet.fit_generator(\\n  train_data,\\n  validation_data=val_data,\\n  epochs=epochs\\n)\\n'"
      ]
     },
     "execution_count": 8,
     "metadata": {},
     "output_type": "execute_result"
    }
   ],
   "source": [
    "\"\"\"\n",
    "epochs=10\n",
    "history = model_ResNet.fit_generator(\n",
    "  train_data,\n",
    "  validation_data=val_data,\n",
    "  epochs=epochs\n",
    ")\n",
    "\"\"\""
   ]
  },
  {
   "cell_type": "markdown",
   "id": "67164915",
   "metadata": {
    "papermill": {
     "duration": 0.016497,
     "end_time": "2022-03-13T08:19:14.885303",
     "exception": false,
     "start_time": "2022-03-13T08:19:14.868806",
     "status": "completed"
    },
    "tags": []
   },
   "source": [
    "# InceptionResnetV2"
   ]
  },
  {
   "cell_type": "code",
   "execution_count": 9,
   "id": "c64d185a",
   "metadata": {
    "execution": {
     "iopub.execute_input": "2022-03-13T08:19:14.925489Z",
     "iopub.status.busy": "2022-03-13T08:19:14.924848Z",
     "iopub.status.idle": "2022-03-13T08:19:14.927461Z",
     "shell.execute_reply": "2022-03-13T08:19:14.927895Z",
     "shell.execute_reply.started": "2022-03-13T08:16:25.673504Z"
    },
    "papermill": {
     "duration": 0.023967,
     "end_time": "2022-03-13T08:19:14.928016",
     "exception": false,
     "start_time": "2022-03-13T08:19:14.904049",
     "status": "completed"
    },
    "tags": []
   },
   "outputs": [
    {
     "data": {
      "text/plain": [
       "\"\\nInceptionResNetV2 = tf.keras.applications.inception_resnet_v2.InceptionResNetV2(\\n    input_shape=(224, 224, 3),\\n    include_top=False,\\n    weights='imagenet',\\n    pooling='avg',\\n    classes=101\\n)\\n\\nfor layer in InceptionResNetV2.layers:\\n    layer.trainable = False\\n    \\nx = InceptionResNetV2.layers[-1].output\\nx = layers.BatchNormalization()(x)\\nx = layers.Dropout(0.2)(x)\\nx = layers.Dense(128, activation='relu')(x)\\nx = layers.Dropout(0.2)(x)\\n\\noutput = layers.Dense(101, activation='softmax')(x)\\nmodel = models.Model(InceptionResNetV2.input, output)\\n\\nmodel.compile(loss='categorical_crossentropy', \\n              optimizer=tf.keras.optimizers.Adam(lr=.0001), \\n              metrics=['accuracy'])\\n\""
      ]
     },
     "execution_count": 9,
     "metadata": {},
     "output_type": "execute_result"
    }
   ],
   "source": [
    "\"\"\"\n",
    "InceptionResNetV2 = tf.keras.applications.inception_resnet_v2.InceptionResNetV2(\n",
    "    input_shape=(224, 224, 3),\n",
    "    include_top=False,\n",
    "    weights='imagenet',\n",
    "    pooling='avg',\n",
    "    classes=101\n",
    ")\n",
    "\n",
    "for layer in InceptionResNetV2.layers:\n",
    "    layer.trainable = False\n",
    "    \n",
    "x = InceptionResNetV2.layers[-1].output\n",
    "x = layers.BatchNormalization()(x)\n",
    "x = layers.Dropout(0.2)(x)\n",
    "x = layers.Dense(128, activation='relu')(x)\n",
    "x = layers.Dropout(0.2)(x)\n",
    "\n",
    "output = layers.Dense(101, activation='softmax')(x)\n",
    "model = models.Model(InceptionResNetV2.input, output)\n",
    "\n",
    "model.compile(loss='categorical_crossentropy', \n",
    "              optimizer=tf.keras.optimizers.Adam(lr=.0001), \n",
    "              metrics=['accuracy'])\n",
    "\"\"\""
   ]
  },
  {
   "cell_type": "code",
   "execution_count": 10,
   "id": "5e1ca0ca",
   "metadata": {
    "execution": {
     "iopub.execute_input": "2022-03-13T08:19:14.965821Z",
     "iopub.status.busy": "2022-03-13T08:19:14.965143Z",
     "iopub.status.idle": "2022-03-13T08:19:14.967772Z",
     "shell.execute_reply": "2022-03-13T08:19:14.967298Z",
     "shell.execute_reply.started": "2022-03-13T08:16:25.687765Z"
    },
    "papermill": {
     "duration": 0.022823,
     "end_time": "2022-03-13T08:19:14.967898",
     "exception": false,
     "start_time": "2022-03-13T08:19:14.945075",
     "status": "completed"
    },
    "tags": []
   },
   "outputs": [],
   "source": [
    "# model.summary()"
   ]
  },
  {
   "cell_type": "code",
   "execution_count": 11,
   "id": "6df89369",
   "metadata": {
    "execution": {
     "iopub.execute_input": "2022-03-13T08:19:15.006179Z",
     "iopub.status.busy": "2022-03-13T08:19:15.005414Z",
     "iopub.status.idle": "2022-03-13T08:19:15.008614Z",
     "shell.execute_reply": "2022-03-13T08:19:15.008137Z",
     "shell.execute_reply.started": "2022-03-13T08:16:25.695464Z"
    },
    "papermill": {
     "duration": 0.023791,
     "end_time": "2022-03-13T08:19:15.008712",
     "exception": false,
     "start_time": "2022-03-13T08:19:14.984921",
     "status": "completed"
    },
    "tags": []
   },
   "outputs": [
    {
     "data": {
      "text/plain": [
       "'\\nepochs=10\\nhistory = model.fit_generator(\\n  train_data,\\n  validation_data=val_data,\\n  epochs=epochs\\n)\\n'"
      ]
     },
     "execution_count": 11,
     "metadata": {},
     "output_type": "execute_result"
    }
   ],
   "source": [
    "\"\"\"\n",
    "epochs=10\n",
    "history = model.fit_generator(\n",
    "  train_data,\n",
    "  validation_data=val_data,\n",
    "  epochs=epochs\n",
    ")\n",
    "\"\"\""
   ]
  },
  {
   "cell_type": "markdown",
   "id": "bcbabbcd",
   "metadata": {
    "papermill": {
     "duration": 0.017291,
     "end_time": "2022-03-13T08:19:15.043522",
     "exception": false,
     "start_time": "2022-03-13T08:19:15.026231",
     "status": "completed"
    },
    "tags": []
   },
   "source": [
    "# InceptionV3"
   ]
  },
  {
   "cell_type": "code",
   "execution_count": 12,
   "id": "0222eab8",
   "metadata": {
    "execution": {
     "iopub.execute_input": "2022-03-13T08:19:15.086536Z",
     "iopub.status.busy": "2022-03-13T08:19:15.082655Z",
     "iopub.status.idle": "2022-03-13T08:19:19.839586Z",
     "shell.execute_reply": "2022-03-13T08:19:19.840201Z",
     "shell.execute_reply.started": "2022-03-13T08:16:25.707114Z"
    },
    "papermill": {
     "duration": 4.779466,
     "end_time": "2022-03-13T08:19:19.840371",
     "exception": false,
     "start_time": "2022-03-13T08:19:15.060905",
     "status": "completed"
    },
    "tags": []
   },
   "outputs": [
    {
     "name": "stderr",
     "output_type": "stream",
     "text": [
      "2022-03-13 08:19:15.176461: I tensorflow/stream_executor/cuda/cuda_gpu_executor.cc:937] successful NUMA node read from SysFS had negative value (-1), but there must be at least one NUMA node, so returning NUMA node zero\n",
      "2022-03-13 08:19:15.276519: I tensorflow/stream_executor/cuda/cuda_gpu_executor.cc:937] successful NUMA node read from SysFS had negative value (-1), but there must be at least one NUMA node, so returning NUMA node zero\n",
      "2022-03-13 08:19:15.277674: I tensorflow/stream_executor/cuda/cuda_gpu_executor.cc:937] successful NUMA node read from SysFS had negative value (-1), but there must be at least one NUMA node, so returning NUMA node zero\n",
      "2022-03-13 08:19:15.278967: I tensorflow/core/platform/cpu_feature_guard.cc:142] This TensorFlow binary is optimized with oneAPI Deep Neural Network Library (oneDNN) to use the following CPU instructions in performance-critical operations:  AVX2 AVX512F FMA\n",
      "To enable them in other operations, rebuild TensorFlow with the appropriate compiler flags.\n",
      "2022-03-13 08:19:15.279805: I tensorflow/stream_executor/cuda/cuda_gpu_executor.cc:937] successful NUMA node read from SysFS had negative value (-1), but there must be at least one NUMA node, so returning NUMA node zero\n",
      "2022-03-13 08:19:15.280457: I tensorflow/stream_executor/cuda/cuda_gpu_executor.cc:937] successful NUMA node read from SysFS had negative value (-1), but there must be at least one NUMA node, so returning NUMA node zero\n",
      "2022-03-13 08:19:15.281069: I tensorflow/stream_executor/cuda/cuda_gpu_executor.cc:937] successful NUMA node read from SysFS had negative value (-1), but there must be at least one NUMA node, so returning NUMA node zero\n",
      "2022-03-13 08:19:17.153819: I tensorflow/stream_executor/cuda/cuda_gpu_executor.cc:937] successful NUMA node read from SysFS had negative value (-1), but there must be at least one NUMA node, so returning NUMA node zero\n",
      "2022-03-13 08:19:17.154566: I tensorflow/stream_executor/cuda/cuda_gpu_executor.cc:937] successful NUMA node read from SysFS had negative value (-1), but there must be at least one NUMA node, so returning NUMA node zero\n",
      "2022-03-13 08:19:17.155296: I tensorflow/stream_executor/cuda/cuda_gpu_executor.cc:937] successful NUMA node read from SysFS had negative value (-1), but there must be at least one NUMA node, so returning NUMA node zero\n",
      "2022-03-13 08:19:17.155886: I tensorflow/core/common_runtime/gpu/gpu_device.cc:1510] Created device /job:localhost/replica:0/task:0/device:GPU:0 with 15403 MB memory:  -> device: 0, name: Tesla P100-PCIE-16GB, pci bus id: 0000:00:04.0, compute capability: 6.0\n"
     ]
    },
    {
     "name": "stdout",
     "output_type": "stream",
     "text": [
      "Downloading data from https://storage.googleapis.com/tensorflow/keras-applications/inception_v3/inception_v3_weights_tf_dim_ordering_tf_kernels_notop.h5\n",
      "87916544/87910968 [==============================] - 0s 0us/step\n",
      "87924736/87910968 [==============================] - 0s 0us/step\n"
     ]
    }
   ],
   "source": [
    "InceptionV3 = tf.keras.applications.inception_v3.InceptionV3(\n",
    "    input_shape=(224, 224, 3),\n",
    "    include_top=False,\n",
    "    weights='imagenet',\n",
    "    classes=101)\n",
    "\n",
    "# for layer in InceptionV3.layers:\n",
    "#     layer.trainable = False\n",
    "    \n",
    "x = InceptionV3.output\n",
    "x = layers.AveragePooling2D()(x)\n",
    "x = layers.Dropout(0.5)(x)\n",
    "x = layers.Flatten()(x)\n",
    "output = layers.Dense(101, activation='softmax')(x)\n",
    "model = models.Model(InceptionV3.input, output)\n",
    "\n",
    "model.compile(loss='categorical_crossentropy', \n",
    "              optimizer=tf.keras.optimizers.SGD(),\n",
    "              metrics=['accuracy'])"
   ]
  },
  {
   "cell_type": "code",
   "execution_count": 13,
   "id": "b4b055b1",
   "metadata": {
    "execution": {
     "iopub.execute_input": "2022-03-13T08:19:19.894101Z",
     "iopub.status.busy": "2022-03-13T08:19:19.893290Z",
     "iopub.status.idle": "2022-03-13T14:41:38.507839Z",
     "shell.execute_reply": "2022-03-13T14:41:38.508324Z",
     "shell.execute_reply.started": "2022-03-13T08:16:30.282188Z"
    },
    "papermill": {
     "duration": 22938.645548,
     "end_time": "2022-03-13T14:41:38.508484",
     "exception": false,
     "start_time": "2022-03-13T08:19:19.862936",
     "status": "completed"
    },
    "tags": []
   },
   "outputs": [
    {
     "name": "stderr",
     "output_type": "stream",
     "text": [
      "2022-03-13 08:19:20.653061: I tensorflow/compiler/mlir/mlir_graph_optimization_pass.cc:185] None of the MLIR Optimization Passes are enabled (registered 2)\n"
     ]
    },
    {
     "name": "stdout",
     "output_type": "stream",
     "text": [
      "Epoch 1/15\n"
     ]
    },
    {
     "name": "stderr",
     "output_type": "stream",
     "text": [
      "2022-03-13 08:19:27.319321: I tensorflow/stream_executor/cuda/cuda_dnn.cc:369] Loaded cuDNN version 8005\n"
     ]
    },
    {
     "name": "stdout",
     "output_type": "stream",
     "text": [
      "2525/2525 [==============================] - 1991s 784ms/step - loss: 2.5187 - accuracy: 0.3967 - val_loss: 1.6460 - val_accuracy: 0.5787\n",
      "Epoch 2/15\n",
      "2525/2525 [==============================] - 1427s 565ms/step - loss: 1.5309 - accuracy: 0.6046 - val_loss: 1.4744 - val_accuracy: 0.6250\n",
      "Epoch 3/15\n",
      "2525/2525 [==============================] - 1474s 584ms/step - loss: 1.2763 - accuracy: 0.6640 - val_loss: 1.2379 - val_accuracy: 0.6834\n",
      "Epoch 4/15\n",
      "2525/2525 [==============================] - 1481s 586ms/step - loss: 1.1258 - accuracy: 0.7013 - val_loss: 1.1079 - val_accuracy: 0.7123\n",
      "Epoch 5/15\n",
      "2525/2525 [==============================] - 1495s 592ms/step - loss: 1.0233 - accuracy: 0.7250 - val_loss: 1.1147 - val_accuracy: 0.7139\n",
      "Epoch 6/15\n",
      "2525/2525 [==============================] - 1459s 578ms/step - loss: 0.9370 - accuracy: 0.7462 - val_loss: 1.0327 - val_accuracy: 0.7374\n",
      "Epoch 7/15\n",
      "2525/2525 [==============================] - 1467s 581ms/step - loss: 0.8771 - accuracy: 0.7625 - val_loss: 1.0335 - val_accuracy: 0.7404\n",
      "Epoch 8/15\n",
      "2525/2525 [==============================] - 1479s 586ms/step - loss: 0.8095 - accuracy: 0.7781 - val_loss: 1.0023 - val_accuracy: 0.7496\n",
      "Epoch 9/15\n",
      "2525/2525 [==============================] - 1495s 592ms/step - loss: 0.7634 - accuracy: 0.7897 - val_loss: 1.0831 - val_accuracy: 0.7289\n",
      "Epoch 10/15\n",
      "2525/2525 [==============================] - 1477s 585ms/step - loss: 0.7149 - accuracy: 0.8016 - val_loss: 1.0754 - val_accuracy: 0.7347\n",
      "Epoch 11/15\n",
      "2525/2525 [==============================] - 1470s 582ms/step - loss: 0.6721 - accuracy: 0.8112 - val_loss: 0.9684 - val_accuracy: 0.7653\n",
      "Epoch 12/15\n",
      "2525/2525 [==============================] - 1426s 565ms/step - loss: 0.6350 - accuracy: 0.8201 - val_loss: 1.1387 - val_accuracy: 0.7290\n",
      "Epoch 13/15\n",
      "2525/2525 [==============================] - 1452s 575ms/step - loss: 0.6028 - accuracy: 0.8303 - val_loss: 1.0156 - val_accuracy: 0.7569\n",
      "Epoch 14/15\n",
      "2525/2525 [==============================] - 1494s 592ms/step - loss: 0.5721 - accuracy: 0.8358 - val_loss: 1.0266 - val_accuracy: 0.7600\n",
      "Epoch 15/15\n",
      "2525/2525 [==============================] - 1505s 596ms/step - loss: 0.5409 - accuracy: 0.8449 - val_loss: 1.0653 - val_accuracy: 0.7548\n"
     ]
    }
   ],
   "source": [
    "epochs=15\n",
    "history = model.fit(\n",
    "  train_data,\n",
    "  validation_data=val_data,\n",
    "  epochs=epochs\n",
    ")"
   ]
  },
  {
   "cell_type": "code",
   "execution_count": 14,
   "id": "82a0ebb2",
   "metadata": {
    "execution": {
     "iopub.execute_input": "2022-03-13T14:42:03.555294Z",
     "iopub.status.busy": "2022-03-13T14:42:03.554525Z",
     "iopub.status.idle": "2022-03-13T14:42:43.020356Z",
     "shell.execute_reply": "2022-03-13T14:42:43.019676Z",
     "shell.execute_reply.started": "2022-03-13T08:17:24.463479Z"
    },
    "papermill": {
     "duration": 51.929987,
     "end_time": "2022-03-13T14:42:43.020538",
     "exception": false,
     "start_time": "2022-03-13T14:41:51.090551",
     "status": "completed"
    },
    "tags": []
   },
   "outputs": [
    {
     "name": "stderr",
     "output_type": "stream",
     "text": [
      "2022-03-13 14:42:18.311280: W tensorflow/python/util/util.cc:348] Sets are not currently considered sequences, but this may change in the future, so consider avoiding using them.\n"
     ]
    }
   ],
   "source": [
    "model.save('/kaggle/working/model')"
   ]
  },
  {
   "cell_type": "code",
   "execution_count": 15,
   "id": "2707d84a",
   "metadata": {
    "execution": {
     "iopub.execute_input": "2022-03-13T14:43:07.895070Z",
     "iopub.status.busy": "2022-03-13T14:43:07.893464Z",
     "iopub.status.idle": "2022-03-13T14:43:07.895623Z",
     "shell.execute_reply": "2022-03-13T14:43:07.896057Z",
     "shell.execute_reply.started": "2022-03-13T08:17:24.465399Z"
    },
    "papermill": {
     "duration": 12.167386,
     "end_time": "2022-03-13T14:43:07.896200",
     "exception": false,
     "start_time": "2022-03-13T14:42:55.728814",
     "status": "completed"
    },
    "tags": []
   },
   "outputs": [],
   "source": [
    "# model.save_weights(\"/kaggle/working/saved_model.h5\")"
   ]
  }
 ],
 "metadata": {
  "kernelspec": {
   "display_name": "Python 3",
   "language": "python",
   "name": "python3"
  },
  "language_info": {
   "codemirror_mode": {
    "name": "ipython",
    "version": 3
   },
   "file_extension": ".py",
   "mimetype": "text/x-python",
   "name": "python",
   "nbconvert_exporter": "python",
   "pygments_lexer": "ipython3",
   "version": "3.7.12"
  },
  "papermill": {
   "default_parameters": {},
   "duration": 23070.391544,
   "end_time": "2022-03-13T14:43:23.791055",
   "environment_variables": {},
   "exception": null,
   "input_path": "__notebook__.ipynb",
   "output_path": "__notebook__.ipynb",
   "parameters": {},
   "start_time": "2022-03-13T08:18:53.399511",
   "version": "2.3.3"
  }
 },
 "nbformat": 4,
 "nbformat_minor": 5
}
