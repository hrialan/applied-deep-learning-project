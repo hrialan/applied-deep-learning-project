{
 "cells": [
  {
   "cell_type": "code",
   "execution_count": 1,
   "id": "983d7ed0",
   "metadata": {
    "_cell_guid": "c578812c-846f-4718-a658-f73ae85080f9",
    "_uuid": "8d267231-749b-44e8-be04-11969e9a385a",
    "collapsed": false,
    "execution": {
     "iopub.execute_input": "2022-03-24T11:15:24.385894Z",
     "iopub.status.busy": "2022-03-24T11:15:24.385112Z",
     "iopub.status.idle": "2022-03-24T11:15:29.583900Z",
     "shell.execute_reply": "2022-03-24T11:15:29.582859Z",
     "shell.execute_reply.started": "2022-03-24T11:13:35.114564Z"
    },
    "jupyter": {
     "outputs_hidden": false
    },
    "papermill": {
     "duration": 5.221403,
     "end_time": "2022-03-24T11:15:29.584070",
     "exception": false,
     "start_time": "2022-03-24T11:15:24.362667",
     "status": "completed"
    },
    "tags": []
   },
   "outputs": [],
   "source": [
    "import os\n",
    "import numpy as np\n",
    "import pandas as pd\n",
    "import matplotlib.pyplot as plt\n",
    "\n",
    "import tensorflow as tf\n",
    "\n",
    "from tensorflow import keras\n",
    "from tensorflow.keras import layers\n",
    "from tensorflow.keras import models\n",
    "from tensorflow.keras.models import Sequential\n",
    "from tensorflow.keras.preprocessing.image import ImageDataGenerator"
   ]
  },
  {
   "cell_type": "code",
   "execution_count": 2,
   "id": "490c2d38",
   "metadata": {
    "execution": {
     "iopub.execute_input": "2022-03-24T11:15:29.612748Z",
     "iopub.status.busy": "2022-03-24T11:15:29.611360Z",
     "iopub.status.idle": "2022-03-24T11:15:29.615325Z",
     "shell.execute_reply": "2022-03-24T11:15:29.614885Z",
     "shell.execute_reply.started": "2022-03-24T11:13:35.129269Z"
    },
    "papermill": {
     "duration": 0.021019,
     "end_time": "2022-03-24T11:15:29.615428",
     "exception": false,
     "start_time": "2022-03-24T11:15:29.594409",
     "status": "completed"
    },
    "tags": []
   },
   "outputs": [
    {
     "name": "stdout",
     "output_type": "stream",
     "text": [
      "Kaggle environment detected\n"
     ]
    }
   ],
   "source": [
    "running_on_kaggle = os.environ.get('KAGGLE_KERNEL_RUN_TYPE', 'Localhost') != 'Localhost'\n",
    "\n",
    "if running_on_kaggle:\n",
    "    print('Kaggle environment detected')\n",
    "    # !nvidia-smi\n",
    "    data_dir = '/kaggle/input/food41/images/'\n",
    "else:\n",
    "    print('Running on localhost')\n",
    "    data_dir = './dataset/food/images/'\n",
    "    !pip install --quiet -r requirements.txt\n",
    "    !python download_data.py"
   ]
  },
  {
   "cell_type": "code",
   "execution_count": 3,
   "id": "62799600",
   "metadata": {
    "execution": {
     "iopub.execute_input": "2022-03-24T11:15:29.639325Z",
     "iopub.status.busy": "2022-03-24T11:15:29.638709Z",
     "iopub.status.idle": "2022-03-24T11:15:29.641315Z",
     "shell.execute_reply": "2022-03-24T11:15:29.640916Z",
     "shell.execute_reply.started": "2022-03-24T11:13:35.142751Z"
    },
    "papermill": {
     "duration": 0.015741,
     "end_time": "2022-03-24T11:15:29.641417",
     "exception": false,
     "start_time": "2022-03-24T11:15:29.625676",
     "status": "completed"
    },
    "tags": []
   },
   "outputs": [],
   "source": [
    "batch_size = 32\n",
    "\n",
    "img_height = 224\n",
    "img_width = 224"
   ]
  },
  {
   "cell_type": "code",
   "execution_count": 4,
   "id": "8b21f731",
   "metadata": {
    "execution": {
     "iopub.execute_input": "2022-03-24T11:15:29.664201Z",
     "iopub.status.busy": "2022-03-24T11:15:29.663394Z",
     "iopub.status.idle": "2022-03-24T11:15:29.668839Z",
     "shell.execute_reply": "2022-03-24T11:15:29.668384Z",
     "shell.execute_reply.started": "2022-03-24T11:13:35.157492Z"
    },
    "papermill": {
     "duration": 0.01754,
     "end_time": "2022-03-24T11:15:29.668943",
     "exception": false,
     "start_time": "2022-03-24T11:15:29.651403",
     "status": "completed"
    },
    "tags": []
   },
   "outputs": [],
   "source": [
    "train_data_generator = ImageDataGenerator(\n",
    "    rescale = 1./255,\n",
    "    rotation_range=40,\n",
    "    width_shift_range=0.2,\n",
    "    height_shift_range=0.2,\n",
    "    shear_range=0.2,\n",
    "    zoom_range=0.2,\n",
    "    horizontal_flip=True,\n",
    "    fill_mode='nearest',\n",
    "    validation_split = 0.2)\n",
    "\n",
    "test_data_generator = ImageDataGenerator(\n",
    "    rescale = 1./255,\n",
    "    validation_split = 0.2)"
   ]
  },
  {
   "cell_type": "code",
   "execution_count": 5,
   "id": "ad677fdb",
   "metadata": {
    "execution": {
     "iopub.execute_input": "2022-03-24T11:15:29.693897Z",
     "iopub.status.busy": "2022-03-24T11:15:29.693198Z",
     "iopub.status.idle": "2022-03-24T11:15:40.070848Z",
     "shell.execute_reply": "2022-03-24T11:15:40.071518Z",
     "shell.execute_reply.started": "2022-03-24T11:13:35.248619Z"
    },
    "papermill": {
     "duration": 10.392232,
     "end_time": "2022-03-24T11:15:40.071674",
     "exception": false,
     "start_time": "2022-03-24T11:15:29.679442",
     "status": "completed"
    },
    "tags": []
   },
   "outputs": [
    {
     "name": "stdout",
     "output_type": "stream",
     "text": [
      "Found 80800 images belonging to 101 classes.\n",
      "Found 20200 images belonging to 101 classes.\n"
     ]
    }
   ],
   "source": [
    "train_data = train_data_generator.flow_from_directory(\n",
    "    data_dir,\n",
    "    target_size = (img_width, img_height),\n",
    "    batch_size = batch_size,\n",
    "    class_mode = 'categorical',\n",
    "    subset = 'training')\n",
    "\n",
    "val_data = test_data_generator.flow_from_directory(\n",
    "    data_dir,\n",
    "    target_size = (img_width, img_height),\n",
    "    batch_size = batch_size,\n",
    "    class_mode='categorical',\n",
    "    subset = 'validation')"
   ]
  },
  {
   "cell_type": "markdown",
   "id": "799d4d83",
   "metadata": {
    "papermill": {
     "duration": 0.010609,
     "end_time": "2022-03-24T11:15:40.093219",
     "exception": false,
     "start_time": "2022-03-24T11:15:40.082610",
     "status": "completed"
    },
    "tags": []
   },
   "source": [
    "# ResNet50V2"
   ]
  },
  {
   "cell_type": "code",
   "execution_count": 6,
   "id": "2c39cb8e",
   "metadata": {
    "execution": {
     "iopub.execute_input": "2022-03-24T11:15:40.121340Z",
     "iopub.status.busy": "2022-03-24T11:15:40.120825Z",
     "iopub.status.idle": "2022-03-24T11:15:44.813673Z",
     "shell.execute_reply": "2022-03-24T11:15:44.812760Z",
     "shell.execute_reply.started": "2022-03-24T11:13:38.017677Z"
    },
    "papermill": {
     "duration": 4.709966,
     "end_time": "2022-03-24T11:15:44.813860",
     "exception": false,
     "start_time": "2022-03-24T11:15:40.103894",
     "status": "completed"
    },
    "tags": []
   },
   "outputs": [
    {
     "name": "stderr",
     "output_type": "stream",
     "text": [
      "2022-03-24 11:15:40.207564: I tensorflow/stream_executor/cuda/cuda_gpu_executor.cc:937] successful NUMA node read from SysFS had negative value (-1), but there must be at least one NUMA node, so returning NUMA node zero\n",
      "2022-03-24 11:15:40.290920: I tensorflow/stream_executor/cuda/cuda_gpu_executor.cc:937] successful NUMA node read from SysFS had negative value (-1), but there must be at least one NUMA node, so returning NUMA node zero\n",
      "2022-03-24 11:15:40.291586: I tensorflow/stream_executor/cuda/cuda_gpu_executor.cc:937] successful NUMA node read from SysFS had negative value (-1), but there must be at least one NUMA node, so returning NUMA node zero\n",
      "2022-03-24 11:15:40.293202: I tensorflow/core/platform/cpu_feature_guard.cc:142] This TensorFlow binary is optimized with oneAPI Deep Neural Network Library (oneDNN) to use the following CPU instructions in performance-critical operations:  AVX2 AVX512F FMA\n",
      "To enable them in other operations, rebuild TensorFlow with the appropriate compiler flags.\n",
      "2022-03-24 11:15:40.295575: I tensorflow/stream_executor/cuda/cuda_gpu_executor.cc:937] successful NUMA node read from SysFS had negative value (-1), but there must be at least one NUMA node, so returning NUMA node zero\n",
      "2022-03-24 11:15:40.296261: I tensorflow/stream_executor/cuda/cuda_gpu_executor.cc:937] successful NUMA node read from SysFS had negative value (-1), but there must be at least one NUMA node, so returning NUMA node zero\n",
      "2022-03-24 11:15:40.296912: I tensorflow/stream_executor/cuda/cuda_gpu_executor.cc:937] successful NUMA node read from SysFS had negative value (-1), but there must be at least one NUMA node, so returning NUMA node zero\n",
      "2022-03-24 11:15:42.105295: I tensorflow/stream_executor/cuda/cuda_gpu_executor.cc:937] successful NUMA node read from SysFS had negative value (-1), but there must be at least one NUMA node, so returning NUMA node zero\n",
      "2022-03-24 11:15:42.106170: I tensorflow/stream_executor/cuda/cuda_gpu_executor.cc:937] successful NUMA node read from SysFS had negative value (-1), but there must be at least one NUMA node, so returning NUMA node zero\n",
      "2022-03-24 11:15:42.106888: I tensorflow/stream_executor/cuda/cuda_gpu_executor.cc:937] successful NUMA node read from SysFS had negative value (-1), but there must be at least one NUMA node, so returning NUMA node zero\n",
      "2022-03-24 11:15:42.107568: I tensorflow/core/common_runtime/gpu/gpu_device.cc:1510] Created device /job:localhost/replica:0/task:0/device:GPU:0 with 15403 MB memory:  -> device: 0, name: Tesla P100-PCIE-16GB, pci bus id: 0000:00:04.0, compute capability: 6.0\n"
     ]
    },
    {
     "name": "stdout",
     "output_type": "stream",
     "text": [
      "Downloading data from https://storage.googleapis.com/tensorflow/keras-applications/resnet/resnet50v2_weights_tf_dim_ordering_tf_kernels_notop.h5\n",
      "94674944/94668760 [==============================] - 1s 0us/step\n",
      "94683136/94668760 [==============================] - 1s 0us/step\n"
     ]
    }
   ],
   "source": [
    "ResNet50V2 = tf.keras.applications.resnet_v2.ResNet50V2(\n",
    "    input_shape=(224, 224, 3),\n",
    "    include_top=False,\n",
    "    weights='imagenet',\n",
    "    pooling='avg',\n",
    "    classes=101\n",
    ")\n",
    "\n",
    "for layer in ResNet50V2.layers:\n",
    "    layer.trainable = False"
   ]
  },
  {
   "cell_type": "code",
   "execution_count": 7,
   "id": "c4f8ab19",
   "metadata": {
    "execution": {
     "iopub.execute_input": "2022-03-24T11:15:44.861246Z",
     "iopub.status.busy": "2022-03-24T11:15:44.860440Z",
     "iopub.status.idle": "2022-03-24T11:15:45.236962Z",
     "shell.execute_reply": "2022-03-24T11:15:45.237410Z",
     "shell.execute_reply.started": "2022-03-24T11:13:39.298073Z"
    },
    "papermill": {
     "duration": 0.403107,
     "end_time": "2022-03-24T11:15:45.237558",
     "exception": false,
     "start_time": "2022-03-24T11:15:44.834451",
     "status": "completed"
    },
    "tags": []
   },
   "outputs": [
    {
     "name": "stderr",
     "output_type": "stream",
     "text": [
      "/opt/conda/lib/python3.7/site-packages/keras/optimizer_v2/optimizer_v2.py:356: UserWarning: The `lr` argument is deprecated, use `learning_rate` instead.\n",
      "  \"The `lr` argument is deprecated, use `learning_rate` instead.\")\n"
     ]
    }
   ],
   "source": [
    "model_ResNet = tf.keras.Sequential([\n",
    "    ResNet50V2,\n",
    "    tf.keras.layers.Flatten(),\n",
    "    tf.keras.layers.Dense(101, activation = 'softmax')\n",
    "    ])\n",
    "\n",
    "model_ResNet.compile(\n",
    "    loss='categorical_crossentropy', \n",
    "    optimizer=tf.keras.optimizers.Adam(lr=.0001), \n",
    "    metrics=['accuracy'])"
   ]
  },
  {
   "cell_type": "code",
   "execution_count": 8,
   "id": "1c71e8db",
   "metadata": {
    "execution": {
     "iopub.execute_input": "2022-03-24T11:15:45.283106Z",
     "iopub.status.busy": "2022-03-24T11:15:45.282308Z",
     "iopub.status.idle": "2022-03-24T15:20:50.263649Z",
     "shell.execute_reply": "2022-03-24T15:20:50.263181Z",
     "shell.execute_reply.started": "2022-03-24T11:13:39.663955Z"
    },
    "papermill": {
     "duration": 14705.006027,
     "end_time": "2022-03-24T15:20:50.263803",
     "exception": false,
     "start_time": "2022-03-24T11:15:45.257776",
     "status": "completed"
    },
    "tags": []
   },
   "outputs": [
    {
     "name": "stderr",
     "output_type": "stream",
     "text": [
      "2022-03-24 11:15:45.997433: I tensorflow/compiler/mlir/mlir_graph_optimization_pass.cc:185] None of the MLIR Optimization Passes are enabled (registered 2)\n"
     ]
    },
    {
     "name": "stdout",
     "output_type": "stream",
     "text": [
      "Epoch 1/10\n"
     ]
    },
    {
     "name": "stderr",
     "output_type": "stream",
     "text": [
      "2022-03-24 11:15:50.347934: I tensorflow/stream_executor/cuda/cuda_dnn.cc:369] Loaded cuDNN version 8005\n"
     ]
    },
    {
     "name": "stdout",
     "output_type": "stream",
     "text": [
      "2525/2525 [==============================] - 1904s 751ms/step - loss: 3.1926 - accuracy: 0.2720 - val_loss: 2.3916 - val_accuracy: 0.4239\n",
      "Epoch 2/10\n",
      "2525/2525 [==============================] - 1304s 516ms/step - loss: 2.3954 - accuracy: 0.4215 - val_loss: 2.1302 - val_accuracy: 0.4788\n",
      "Epoch 3/10\n",
      "2525/2525 [==============================] - 1343s 532ms/step - loss: 2.2107 - accuracy: 0.4591 - val_loss: 2.0158 - val_accuracy: 0.5016\n",
      "Epoch 4/10\n",
      "2525/2525 [==============================] - 1358s 538ms/step - loss: 2.1094 - accuracy: 0.4790 - val_loss: 1.9498 - val_accuracy: 0.5147\n",
      "Epoch 5/10\n",
      "2525/2525 [==============================] - 1411s 559ms/step - loss: 2.0392 - accuracy: 0.4941 - val_loss: 1.8959 - val_accuracy: 0.5258\n",
      "Epoch 6/10\n",
      "2525/2525 [==============================] - 1407s 557ms/step - loss: 1.9812 - accuracy: 0.5065 - val_loss: 1.8722 - val_accuracy: 0.5337\n",
      "Epoch 7/10\n",
      "2525/2525 [==============================] - 1410s 558ms/step - loss: 1.9445 - accuracy: 0.5136 - val_loss: 1.8492 - val_accuracy: 0.5375\n",
      "Epoch 8/10\n",
      "2525/2525 [==============================] - 1414s 560ms/step - loss: 1.9125 - accuracy: 0.5229 - val_loss: 1.8258 - val_accuracy: 0.5419\n",
      "Epoch 9/10\n",
      "2525/2525 [==============================] - 1411s 559ms/step - loss: 1.8776 - accuracy: 0.5281 - val_loss: 1.8063 - val_accuracy: 0.5460\n",
      "Epoch 10/10\n",
      "2525/2525 [==============================] - 1412s 559ms/step - loss: 1.8509 - accuracy: 0.5344 - val_loss: 1.7936 - val_accuracy: 0.5495\n"
     ]
    }
   ],
   "source": [
    "epochs=10\n",
    "history = model_ResNet.fit(\n",
    "  train_data,\n",
    "  validation_data=val_data,\n",
    "  epochs=epochs\n",
    ")"
   ]
  },
  {
   "cell_type": "code",
   "execution_count": 9,
   "id": "e5b9b644",
   "metadata": {
    "execution": {
     "iopub.execute_input": "2022-03-24T15:21:06.809508Z",
     "iopub.status.busy": "2022-03-24T15:21:06.808550Z",
     "iopub.status.idle": "2022-03-24T15:21:07.112631Z",
     "shell.execute_reply": "2022-03-24T15:21:07.113060Z",
     "shell.execute_reply.started": "2022-03-24T11:13:59.731043Z"
    },
    "papermill": {
     "duration": 8.519827,
     "end_time": "2022-03-24T15:21:07.113203",
     "exception": false,
     "start_time": "2022-03-24T15:20:58.593376",
     "status": "completed"
    },
    "tags": []
   },
   "outputs": [
    {
     "data": {
      "image/png": "[encoded data removed]",
      "text/plain": [
       "<Figure size 576x576 with 2 Axes>"
      ]
     },
     "metadata": {
      "needs_background": "light"
     },
     "output_type": "display_data"
    }
   ],
   "source": [
    "acc = history.history['accuracy']\n",
    "val_acc = history.history['val_accuracy']\n",
    "\n",
    "loss = history.history['loss']\n",
    "val_loss = history.history['val_loss']\n",
    "\n",
    "epochs_range = range(epochs)\n",
    "\n",
    "plt.figure(figsize=(8, 8))\n",
    "plt.subplot(1, 2, 1)\n",
    "plt.plot(epochs_range, acc, label='Training Accuracy')\n",
    "plt.plot(epochs_range, val_acc, label='Validation Accuracy')\n",
    "plt.legend(loc='lower right')\n",
    "plt.title('Training and Validation Accuracy')\n",
    "\n",
    "plt.subplot(1, 2, 2)\n",
    "plt.plot(epochs_range, loss, label='Training Loss')\n",
    "plt.plot(epochs_range, val_loss, label='Validation Loss')\n",
    "plt.legend(loc='upper right')\n",
    "plt.title('Training and Validation Loss')\n",
    "plt.show()"
   ]
  },
  {
   "cell_type": "code",
   "execution_count": 10,
   "id": "0255f38b",
   "metadata": {
    "execution": {
     "iopub.execute_input": "2022-03-24T15:21:24.403917Z",
     "iopub.status.busy": "2022-03-24T15:21:24.403055Z",
     "iopub.status.idle": "2022-03-24T15:21:51.419926Z",
     "shell.execute_reply": "2022-03-24T15:21:51.419252Z",
     "shell.execute_reply.started": "2022-03-24T11:13:59.736555Z"
    },
    "papermill": {
     "duration": 35.405601,
     "end_time": "2022-03-24T15:21:51.420115",
     "exception": false,
     "start_time": "2022-03-24T15:21:16.014514",
     "status": "completed"
    },
    "tags": []
   },
   "outputs": [
    {
     "name": "stderr",
     "output_type": "stream",
     "text": [
      "2022-03-24 15:21:33.892314: W tensorflow/python/util/util.cc:348] Sets are not currently considered sequences, but this may change in the future, so consider avoiding using them.\n",
      "/opt/conda/lib/python3.7/site-packages/keras/utils/generic_utils.py:497: CustomMaskWarning: Custom mask layers require a config and must override get_config. When loading, the custom mask layer must be passed to the custom_objects argument.\n",
      "  category=CustomMaskWarning)\n"
     ]
    }
   ],
   "source": [
    "model_ResNet.save('/kaggle/working/model')"
   ]
  }
 ],
 "metadata": {
  "kernelspec": {
   "display_name": "Python 3",
   "language": "python",
   "name": "python3"
  },
  "language_info": {
   "codemirror_mode": {
    "name": "ipython",
    "version": 3
   },
   "file_extension": ".py",
   "mimetype": "text/x-python",
   "name": "python",
   "nbconvert_exporter": "python",
   "pygments_lexer": "ipython3",
   "version": "3.7.12"
  },
  "papermill": {
   "default_parameters": {},
   "duration": 14806.619461,
   "end_time": "2022-03-24T15:22:02.975783",
   "environment_variables": {},
   "exception": null,
   "input_path": "__notebook__.ipynb",
   "output_path": "__notebook__.ipynb",
   "parameters": {},
   "start_time": "2022-03-24T11:15:16.356322",
   "version": "2.3.3"
  }
 },
 "nbformat": 4,
 "nbformat_minor": 5
}
